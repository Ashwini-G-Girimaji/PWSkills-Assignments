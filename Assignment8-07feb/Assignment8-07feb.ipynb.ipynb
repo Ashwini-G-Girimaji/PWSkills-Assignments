{
 "cells": [
  {
   "cell_type": "markdown",
   "id": "4f5aa968-6ced-41e0-b1dc-3aaca6b865de",
   "metadata": {},
   "source": [
    "1. You are writing code for a company. The requirement of the company is that you create a python function that will check whether the password entered by the user is correct or not. The function should take the password as input and return the string “Valid Password” if the entered password follows the below-given password guidelines else it should return “Invalid Password”.\n",
    "<br>Note: \n",
    "<br>i. The Password should contain at least two uppercase letters and at least two lowercase letters.\n",
    "<br>ii. The Password should contain at least a number and three special characters.\n",
    "<br>iii. The length of the password should be 10 characters long."
   ]
  },
  {
   "cell_type": "code",
   "execution_count": 27,
   "id": "3aae1386-309f-449b-a240-aeed3ea8ae0e",
   "metadata": {},
   "outputs": [
    {
     "name": "stdout",
     "output_type": "stream",
     "text": [
      "upper =  3 , lower =  2 , num =  4 , special =  4\n",
      "Password is valid\n"
     ]
    }
   ],
   "source": [
    "def Validation(pwd):\n",
    "    upper=0\n",
    "    lower=0\n",
    "    num=0\n",
    "    splchar=0\n",
    "    if len(pwd)<10:\n",
    "        print('Password lenght should be alteast 10')\n",
    "        return\n",
    "    for i in pwd:\n",
    "  \n",
    "        if i.isupper():\n",
    "            upper+=1\n",
    "        elif i.islower():\n",
    "            lower+=1\n",
    "        if i.isnumeric():\n",
    "            num+=1\n",
    "        if i in punctuation:\n",
    "            splchar+=1\n",
    "    print('upper = ',upper,', lower = ',lower,', num = ',num,', special = ',splchar)\n",
    "    if upper<2:\n",
    "        print('Password should have alteast 2 upper case letter')\n",
    "        return\n",
    "    elif lower<2:\n",
    "        print('Password should have alteast 2 lower case letter')\n",
    "        return\n",
    "    elif splchar<4:\n",
    "        print('Password should have alteast 3 special character')\n",
    "        return\n",
    "    elif num<1:\n",
    "        print('Password should have alteast 1 number')\n",
    "        return\n",
    "    else:\n",
    "        print('Password is valid')\n",
    "        return \n",
    "    \n",
    "pwd='!@#+1234hjDFG'    \n",
    "Validation(pwd)"
   ]
  },
  {
   "cell_type": "markdown",
   "id": "fcde5690-a3b8-4fd6-b14f-c834b2d44f05",
   "metadata": {},
   "source": [
    "2. Solve the below-given questions using at least one of the following:<br>\n",
    "        1. Lambda function<br>\n",
    "        2. Filter function<br>\n",
    "        3. Map function<br>\n",
    "        4. List Comprehension<br>\n",
    "Check if the string starts with a particular letter.<br>\n",
    "Check if the string is numeric.<br>\n",
    "Sort a list of tuples having fruit names and their quantity. [(\"mango\",99),(\"orange\",80), (\"grapes\", 1000)]<br>\n",
    "Find the squares of numbers from 1 to 10<br>\n",
    "Find the cube root of numbers from 1 to 10<br>\n",
    "Check if a given number is even<br>\n",
    "Filter odd numbers from the given list.<br>\n",
    "[1,2,3,4,5,6,7,8,9,10]<br>\n",
    "Sort a list of integers into positive and negative integers lists.<br>\n",
    "[1,2,3,4,5,6,-1,-2,-3,-4,-5,0]"
   ]
  },
  {
   "cell_type": "code",
   "execution_count": 24,
   "id": "66009970-5a7a-42ab-8bcd-eb8e4757a775",
   "metadata": {},
   "outputs": [
    {
     "name": "stdout",
     "output_type": "stream",
     "text": [
      "True\n"
     ]
    }
   ],
   "source": [
    "#Check if the string starts with a particular letter.\n",
    "str1='i m studying Data Science'\n",
    "a= lambda x,y : True if x[0]==y else False\n",
    "print(a(str1,'i'))"
   ]
  },
  {
   "cell_type": "code",
   "execution_count": 16,
   "id": "a715afff-aff9-4d75-8127-c7bef2a560b1",
   "metadata": {},
   "outputs": [
    {
     "name": "stdout",
     "output_type": "stream",
     "text": [
      "True\n"
     ]
    }
   ],
   "source": [
    "##Check if the string is numeric.\n",
    "str1='45548'\n",
    "a= lambda x : True if x.isnumeric() else False\n",
    "print(a(str1))"
   ]
  },
  {
   "cell_type": "code",
   "execution_count": 18,
   "id": "74196a6b-b822-48da-a34d-c297d7f9087b",
   "metadata": {},
   "outputs": [
    {
     "name": "stdout",
     "output_type": "stream",
     "text": [
      "[('orange', 80), ('mango', 99), ('grapes', 1000)]\n"
     ]
    }
   ],
   "source": [
    "#Sort a list of tuples having fruit names and their quantity. [(\"mango\",99),(\"orange\",80), (\"grapes\", 1000)]\n",
    "fruit=[(\"mango\",99),(\"orange\",80), (\"grapes\", 1000)]\n",
    "fruit.sort(key=lambda t : t[1])\n",
    "print(fruit)"
   ]
  },
  {
   "cell_type": "code",
   "execution_count": 19,
   "id": "d655d703-f00c-42e1-adce-363509e927d1",
   "metadata": {},
   "outputs": [
    {
     "name": "stdout",
     "output_type": "stream",
     "text": [
      "[1, 4, 9, 16, 25, 36, 49, 64, 81, 100]\n"
     ]
    }
   ],
   "source": [
    "#Find the squares of numbers from 1 to 10\n",
    "n=[1, 2, 3, 4, 5, 6, 7, 8, 9, 10]\n",
    "n2=[]\n",
    "for i in n:\n",
    "    a=lambda j: j**2\n",
    "    n2.append(a(i))\n",
    "print(n2)"
   ]
  },
  {
   "cell_type": "code",
   "execution_count": 20,
   "id": "df0ca5f9-8f81-4ddb-9838-b2c5206a2e00",
   "metadata": {},
   "outputs": [
    {
     "name": "stdout",
     "output_type": "stream",
     "text": [
      "[1.0, 1.2599210498948732, 1.4422495703074083, 1.5874010519681994, 1.7099759466766968, 1.8171205928321397, 1.912931182772389, 2.0, 2.080083823051904, 2.154434690031884]\n",
      "[1.0, 1.2599210498948732, 1.4422495703074083, 1.5874010519681994, 1.7099759466766968, 1.8171205928321397, 1.912931182772389, 2.0, 2.080083823051904, 2.154434690031884]\n"
     ]
    }
   ],
   "source": [
    "#Find the cube root of numbers from 1 to 10\n",
    "\n",
    "# Using Map function\n",
    "cuberoot_numbers = list(map(lambda x: x**(1/3), range(1, 11)))\n",
    "print(cuberoot_numbers)\n",
    "\n",
    "# Using List Comprehension\n",
    "cuberoot_numbers_lc = [x**(1/3) for x in range(1, 11)]\n",
    "print(cuberoot_numbers_lc)"
   ]
  },
  {
   "cell_type": "code",
   "execution_count": 21,
   "id": "fca39fc0-a5b2-4d7c-9244-83eb19afd34e",
   "metadata": {},
   "outputs": [
    {
     "name": "stdout",
     "output_type": "stream",
     "text": [
      "True\n"
     ]
    }
   ],
   "source": [
    "#Check if a given number is even\n",
    "is_even_lambda = lambda number: True if number % 2 == 0 else False\n",
    "print(is_even_lambda(6))"
   ]
  },
  {
   "cell_type": "code",
   "execution_count": 22,
   "id": "0bb54bba-2909-46a9-87d0-f5592d96f3cb",
   "metadata": {},
   "outputs": [
    {
     "name": "stdout",
     "output_type": "stream",
     "text": [
      "[1, 3, 5, 7, 9]\n"
     ]
    }
   ],
   "source": [
    "#Filter odd numbers from the given list\n",
    "numbers = [1,2,3,4,5,6,7,8,9,10]\n",
    "\n",
    "# Using Filter function\n",
    "odd_numbers = list(filter(lambda x: x % 2 != 0, numbers))\n",
    "print(odd_numbers)"
   ]
  },
  {
   "cell_type": "code",
   "execution_count": 23,
   "id": "63dab2c2-9aef-4d85-874d-f00621efacd2",
   "metadata": {},
   "outputs": [
    {
     "name": "stdout",
     "output_type": "stream",
     "text": [
      "[1, 2, 3, 4, 5, 6]\n",
      "[-1, -2, -3, -4, -5]\n"
     ]
    }
   ],
   "source": [
    "#Sort a list of integers into positive and negative integers lists\n",
    "numbers = [1,2,3,4,5,6,-1,-2,-3,-4,-5,0]\n",
    "\n",
    "# Using List Comprehension\n",
    "positive_numbers = [x for x in numbers if x > 0]\n",
    "negative_numbers = [x for x in numbers if x < 0]\n",
    "print(positive_numbers)\n",
    "print(negative_numbers)"
   ]
  },
  {
   "cell_type": "code",
   "execution_count": null,
   "id": "242f05b1-78eb-4b88-b1b7-29430b3ba863",
   "metadata": {},
   "outputs": [],
   "source": []
  }
 ],
 "metadata": {
  "kernelspec": {
   "display_name": "Python 3 (ipykernel)",
   "language": "python",
   "name": "python3"
  },
  "language_info": {
   "codemirror_mode": {
    "name": "ipython",
    "version": 3
   },
   "file_extension": ".py",
   "mimetype": "text/x-python",
   "name": "python",
   "nbconvert_exporter": "python",
   "pygments_lexer": "ipython3",
   "version": "3.10.8"
  }
 },
 "nbformat": 4,
 "nbformat_minor": 5
}
