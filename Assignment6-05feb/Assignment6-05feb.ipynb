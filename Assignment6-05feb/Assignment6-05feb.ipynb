{
 "cells": [
  {
   "cell_type": "markdown",
   "id": "64c21ced-c68f-4cd1-8eec-cb695279d014",
   "metadata": {},
   "source": [
    "1. Explain Class and Object with respect to Object-Oriented Programming. Give a suitable example."
   ]
  },
  {
   "cell_type": "markdown",
   "id": "aac60ab1-b905-4b72-8533-a3259839c6e6",
   "metadata": {},
   "source": [
    "\n",
    "Ans: Class: In object-oriented programming, a class is a blueprint or a template for creating objects (an instance of the class). It defines a set of attributes and behaviors that an object of that class will have. A class can be considered as a blueprint for the object or objects that can be created using it.\n",
    "\n",
    "Object: An object is an instance of a class. It is a real-world entity with attributes and behaviors that are defined by the class. An object has a state and a behavior, and it is created from a class. An object is also known as an instance of a class.\n",
    "\n",
    "Example: Let's consider a class called \"Car\". A Car class might have attributes such as color, make, model, and year, and behaviors such as start, stop, and drive. An object of the Car class would be a specific car, such as a red 2022 Toyota Corolla. The red 2022 Toyota Corolla would have the attributes of color (red), make (Toyota), model (Corolla), and year (2022), and it would be able to perform the behaviors start, stop, and drive."
   ]
  },
  {
   "cell_type": "markdown",
   "id": "c01b331f-061d-4d78-9946-cb7fef9edfc9",
   "metadata": {},
   "source": [
    "2.  Name the four pillars of OOPs."
   ]
  },
  {
   "cell_type": "markdown",
   "id": "8defe73e-e3ba-44bc-9049-77bf07f5a20f",
   "metadata": {},
   "source": [
    "\n",
    "Polymorphism: Polymorphism is the ability of an object to take on multiple forms. This is achieved in OOP by defining methods with the same name in different classes that are related by inheritance. When a method is called on an object, the correct implementation of that method is executed based on the object's actual class.\n",
    "\n",
    "Encapsulation: Encapsulation is the mechanism of wrapping the data (variables) and functions that operate on that data within a single unit or object. This protects the data from accidental corruption and provides a secure way to access the data.\n",
    "\n",
    "Inheritance: Inheritance is a mechanism where a new class can be derived from an existing class. The derived class inherits all the attributes and behaviors of the parent class and can also have its own attributes and behaviors.\n",
    "\n",
    "Abstraction: Abstraction refers to the practice of exposing only the relevant information and hiding the complexity of the implementation. It allows the user to focus on what the object does rather than how it does it.\n"
   ]
  },
  {
   "cell_type": "markdown",
   "id": "acab754f-928f-4672-9a9a-9c9889f7bd68",
   "metadata": {},
   "source": [
    "3. Explain why the init() function is used. Give a suitable example."
   ]
  },
  {
   "cell_type": "markdown",
   "id": "46f3df8f-1c1d-48ed-9368-d11d632e256e",
   "metadata": {},
   "source": [
    "Ans: The init() function is used in object-oriented programming to initialize the attributes of an object at the time of its creation. The init() method is also known as a constructor. It is a special method that is automatically called when an object is created from a class. \n",
    "\n",
    "The init() function allows you to set the default values for the object's attributes, perform any initializations, and allocate any required memory when the object is created. The method takes the newly created object as its first argument (usually referred to as self), and additional arguments can be passed to initialize the object's attributes.\n",
    "\n",
    "Example: Consider a class Car that represents a Car model and year. The init() function can be used to initialize these attributes when a new object of the Person class is created."
   ]
  },
  {
   "cell_type": "code",
   "execution_count": 1,
   "id": "aa327551-7834-42c1-bea4-aef809aca4d5",
   "metadata": {},
   "outputs": [
    {
     "name": "stdout",
     "output_type": "stream",
     "text": [
      "Maruthi\n",
      "2020\n"
     ]
    }
   ],
   "source": [
    "class Car:\n",
    "    def __init__(self, model, year):\n",
    "        self.model = model\n",
    "        self.year = year\n",
    "\n",
    "car = Car(\"Maruthi\", 2020)\n",
    "print(car.model) \n",
    "print(car.year)"
   ]
  },
  {
   "cell_type": "markdown",
   "id": "4c8180cb-6aa0-4e1f-b06e-fb5d4127247f",
   "metadata": {},
   "source": [
    "4. Why self is used in OOPs?"
   ]
  },
  {
   "cell_type": "markdown",
   "id": "bebe4711-8558-45dd-8ea9-60ad86bcd3da",
   "metadata": {},
   "source": [
    "In object-oriented programming (OOP), self is used to refer to the instance of the object being manipulated within a method. \n",
    "It is a convention in Python to use self as the first argument in an instance method to refer to the instance of the object.\n",
    "\n",
    "When a method is called on an object, the object is passed as the first argument to the method, and it can be accessed using the self reference. \n",
    "This allows the method to access and modify the object's attributes and perform other operations on the object."
   ]
  },
  {
   "cell_type": "code",
   "execution_count": 6,
   "id": "e8d9df87-d3b3-4c57-8bf3-211232383592",
   "metadata": {},
   "outputs": [
    {
     "name": "stdout",
     "output_type": "stream",
     "text": [
      "Innova\n",
      "2023\n",
      "Creta\n",
      "2022\n"
     ]
    }
   ],
   "source": [
    "class Car:  \n",
    "        \n",
    "    def set_model(self, model):\n",
    "        self.model = model\n",
    "        \n",
    "    def set_year(self, year):\n",
    "        self.year = year\n",
    "        \n",
    "    def get_model(self):\n",
    "        return self.model\n",
    "        \n",
    "    def get_year(self):\n",
    "        return self.year \n",
    "        \n",
    "car1 = Car()\n",
    "car1.set_model('Innova')\n",
    "car1.set_year(2023)\n",
    "print(car1.get_model())\n",
    "print(car1.get_year())\n",
    "\n",
    "car2 = Car()\n",
    "car2.set_model('Creta')\n",
    "car2.set_year(2022)\n",
    "print(car2.get_model())\n",
    "print(car2.get_year())"
   ]
  },
  {
   "cell_type": "markdown",
   "id": "35aa8a73-880b-4731-b726-ac3e26c788e1",
   "metadata": {},
   "source": [
    "5. What is inheritance? Give an example for each type of inheritance."
   ]
  },
  {
   "cell_type": "markdown",
   "id": "7ad0e906-d39e-4ea1-b4c9-ce4cf62d6d40",
   "metadata": {},
   "source": [
    "Ans: Inheritance is a mechanism in object-oriented programming (OOP) that allows a new class to be derived from an existing class. The derived class inherits all the attributes and behaviors of the parent class and can also have its own attributes and behaviors. Inheritance enables code reuse and makes it easier to create and maintain large, complex systems."
   ]
  },
  {
   "cell_type": "code",
   "execution_count": 7,
   "id": "5fd8d8a1-5855-407c-b311-62270b3aad04",
   "metadata": {},
   "outputs": [
    {
     "name": "stdout",
     "output_type": "stream",
     "text": [
      "Hello\n",
      "World\n"
     ]
    }
   ],
   "source": [
    "#Single Inheritance\n",
    "\n",
    "class A:\n",
    "    def display(self):\n",
    "        print(\"Hello\")\n",
    "    \n",
    "class B(A):\n",
    "    def display(self):\n",
    "        super().display()\n",
    "        print(\"World\")\n",
    "\n",
    "b = B()\n",
    "b.display()"
   ]
  },
  {
   "cell_type": "code",
   "execution_count": 8,
   "id": "277ad5dc-b35a-4e88-b62e-9b5a934ac42f",
   "metadata": {},
   "outputs": [
    {
     "name": "stdout",
     "output_type": "stream",
     "text": [
      "Hi\n",
      "Bye\n"
     ]
    }
   ],
   "source": [
    "#Multiple Inheritance\n",
    "\n",
    "class A:\n",
    "    def sayHi(self):\n",
    "        print(\"Hi\")\n",
    "    \n",
    "class B:\n",
    "    def sayBye(self):\n",
    "        print(\"Bye\")\n",
    "   \n",
    "        \n",
    "class C(A, B):\n",
    "    def display(self):\n",
    "        super().sayHi()\n",
    "        super().sayBye()\n",
    "        \n",
    "c = C()\n",
    "c.display()"
   ]
  },
  {
   "cell_type": "code",
   "execution_count": 9,
   "id": "38250ea6-32ca-4087-bbd4-26443fbd6c1b",
   "metadata": {},
   "outputs": [
    {
     "name": "stdout",
     "output_type": "stream",
     "text": [
      "Class A\n",
      "Class B\n",
      "Class C\n"
     ]
    }
   ],
   "source": [
    "#Multilevel Inheritance\n",
    "class A:\n",
    "    def display(self):\n",
    "        print(\"Class A\")\n",
    "        \n",
    "class B(A):\n",
    "    def display(self):\n",
    "        super().display()\n",
    "        print(\"Class B\")\n",
    "        \n",
    "class C(B):\n",
    "    def display(self):\n",
    "        super().display()\n",
    "        print(\"Class C\")\n",
    "        \n",
    "        \n",
    "c = C()\n",
    "c.display()"
   ]
  }
 ],
 "metadata": {
  "kernelspec": {
   "display_name": "Python 3 (ipykernel)",
   "language": "python",
   "name": "python3"
  },
  "language_info": {
   "codemirror_mode": {
    "name": "ipython",
    "version": 3
   },
   "file_extension": ".py",
   "mimetype": "text/x-python",
   "name": "python",
   "nbconvert_exporter": "python",
   "pygments_lexer": "ipython3",
   "version": "3.10.8"
  }
 },
 "nbformat": 4,
 "nbformat_minor": 5
}
