{
 "cells": [
  {
   "cell_type": "markdown",
   "id": "96c1a9d2-1046-4223-8fb7-93cef3f203f4",
   "metadata": {},
   "source": [
    "1. Write a program to accept percentage from the user and display the grade according to the following \n",
    "criteria: \n"
   ]
  },
  {
   "cell_type": "code",
   "execution_count": 3,
   "id": "15ac7e0f-b69a-459f-b7f0-158a0a2c0381",
   "metadata": {},
   "outputs": [
    {
     "name": "stdin",
     "output_type": "stream",
     "text": [
      "Enter the Percentage 50\n"
     ]
    },
    {
     "name": "stdout",
     "output_type": "stream",
     "text": [
      "Your Grade is  D\n"
     ]
    }
   ],
   "source": [
    "percent= int(input(\"Enter the Percentage\"))\n",
    "if percent>90:\n",
    "    grade = 'A'\n",
    "elif percent>80 and percent<=90 :\n",
    "    grade = 'B'\n",
    "elif percent>=60 and percent<=80 :\n",
    "    grade = 'C'\n",
    "else:\n",
    "    grade = 'D'\n",
    "print(\"Your Grade is \",grade)"
   ]
  },
  {
   "cell_type": "markdown",
   "id": "c47f59e1-b64b-417e-987e-c29089992a6a",
   "metadata": {},
   "source": [
    "2. Write a program to accept the cost price of a bike and display the road tax to be paid according to the \n",
    "following criteria: \n"
   ]
  },
  {
   "cell_type": "code",
   "execution_count": 52,
   "id": "0f947c8d-02c6-46a7-9fe5-e3497e877228",
   "metadata": {},
   "outputs": [
    {
     "name": "stdin",
     "output_type": "stream",
     "text": [
      "Enter the cost Price of bike 110000\n"
     ]
    },
    {
     "name": "stdout",
     "output_type": "stream",
     "text": [
      "Tax you need to pay is Rs. 16500.0\n"
     ]
    }
   ],
   "source": [
    "cp= int(input(\"Enter the cost Price of bike\"))\n",
    "if cp>100000:\n",
    "    tax = (15/100)*cp\n",
    "elif cp>50000 and cp<=100000 :\n",
    "    tax = (10/100)*cp\n",
    "else:\n",
    "    tax = (5/100)*cp\n",
    "print(\"Tax you need to pay is Rs.\",tax)"
   ]
  },
  {
   "cell_type": "markdown",
   "id": "dd552937-0bfc-4524-aa66-19762ef57d02",
   "metadata": {},
   "source": [
    "3. Accept any city from the user and display monuments of that city. "
   ]
  },
  {
   "cell_type": "code",
   "execution_count": 12,
   "id": "5c942739-a3fa-4af3-83c3-9cbffdb511cd",
   "metadata": {},
   "outputs": [
    {
     "name": "stdin",
     "output_type": "stream",
     "text": [
      "Enter the City to know which Monument is famous(Use CamelCase)\n",
      " -  Agra\n"
     ]
    },
    {
     "name": "stdout",
     "output_type": "stream",
     "text": [
      "Famous Monument in Agra is Taj Mahal\n"
     ]
    }
   ],
   "source": [
    "city= input(\"Enter the City to know which Monument is famous(Use CamelCase)\\n - \")\n",
    "if city==\"Delhi\":\n",
    "    print(\"Famous Monument in Delhi is RedFort\")\n",
    "elif city==\"Agra\":\n",
    "    print(\"Famous Monument in Agra is Taj Mahal\")\n",
    "elif city==\"Jaipur\":\n",
    "    print(\"Famous Monument in Jaipur is Jal Mahal\")   \n",
    "else:\n",
    "    print(\"Sorry this city is not listed\")   \n"
   ]
  },
  {
   "cell_type": "markdown",
   "id": "4a2d5ee9-b89a-40df-a074-4fb26f0d1248",
   "metadata": {},
   "source": [
    "4. Check how many times a given number can be divided by 3 before it is less than or equal to 10. "
   ]
  },
  {
   "cell_type": "code",
   "execution_count": 15,
   "id": "013bd4a3-958a-4c19-925e-b95c6610941d",
   "metadata": {},
   "outputs": [
    {
     "name": "stdin",
     "output_type": "stream",
     "text": [
      "Enter the number 12\n"
     ]
    },
    {
     "name": "stdout",
     "output_type": "stream",
     "text": [
      "Given number can be divided by 3 before it is less than or equal to 10 is 1 times\n"
     ]
    }
   ],
   "source": [
    "i=int(input(\"Enter the number\"))\n",
    "count=0\n",
    "while(i>10):\n",
    "    n=i%3\n",
    "    if(n==0):\n",
    "        count=count+1\n",
    "    i=i-1\n",
    "print(f\"Given number can be divided by 3 before it is less than or equal to 10 is {count} times\")"
   ]
  },
  {
   "cell_type": "markdown",
   "id": "49c89c0b-13b7-4ecd-95ee-a5f84e058e54",
   "metadata": {},
   "source": [
    "5. Why and When to Use while Loop in Python give a detailed description with example <br>\n",
    "Ans: **While loop is used when block of code needs to be exceuted when some condition is met. Also, used when number of iterations are not known.<br>** Syntax: <br>while (Condition):<br>\n",
    "            Block of code to be executed<br>\n",
    "Example:<br>\n",
    "Here we want to read user input until the user enters 'quit'.<br> We will not know how many times the user will enter inputs before entering 'quit', so we can't use a for loop with a fixed number of iterations.  <br>In this Case, While loop is more Appropriate \n",
    "\n"
   ]
  },
  {
   "cell_type": "code",
   "execution_count": 1,
   "id": "c9bf3d93-e6cf-435c-98c8-472ed0d8cd12",
   "metadata": {},
   "outputs": [
    {
     "name": "stdin",
     "output_type": "stream",
     "text": [
      "Enter a value(If you want to exit type 'quit'):  quit\n"
     ]
    },
    {
     "name": "stdout",
     "output_type": "stream",
     "text": [
      "You entered: quit\n",
      "Thank you\n"
     ]
    }
   ],
   "source": [
    "user_input = ''\n",
    "\n",
    "while user_input != 'quit':\n",
    "    user_input = input(\"Enter a value(If you want to exit type 'quit'): \")\n",
    "    print(\"You entered:\", user_input)\n",
    "    if user_input == 'quit':\n",
    "        print(\"Thank you\")\n"
   ]
  },
  {
   "cell_type": "markdown",
   "id": "88a18cac-0bf5-4047-9976-18f7717e8a12",
   "metadata": {},
   "source": [
    "6. Use nested while loop to print 3 different pattern"
   ]
  },
  {
   "cell_type": "code",
   "execution_count": 6,
   "id": "b4e7d233-e87e-43da-9ec5-295f58476234",
   "metadata": {},
   "outputs": [
    {
     "name": "stdout",
     "output_type": "stream",
     "text": [
      "     \n",
      "    *\n",
      "   ***\n",
      "  *****\n",
      " *******\n",
      "*********\n"
     ]
    }
   ],
   "source": [
    "i=0\n",
    "row=5\n",
    "while(i<=row):\n",
    "    j=row-i\n",
    "    while(j>0):\n",
    "        print(\" \",end=\"\")  \n",
    "        j=j-1\n",
    "    k=1\n",
    "    while(k<=2*i-1):\n",
    "        print('*',end=\"\")\n",
    "        k=k+1\n",
    "    print()   \n",
    "    i=i+1   "
   ]
  },
  {
   "cell_type": "code",
   "execution_count": 22,
   "id": "14ced57a-289d-4da2-819d-3f667c5a6b85",
   "metadata": {},
   "outputs": [
    {
     "name": "stdout",
     "output_type": "stream",
     "text": [
      "     \n",
      "    *\n",
      "   * *\n",
      "  *   *\n",
      " *     *\n",
      "*********\n"
     ]
    }
   ],
   "source": [
    "i=0\n",
    "row=5\n",
    "while(i<=row):\n",
    "    j=row-i\n",
    "    while(j>0):\n",
    "        print(\" \",end=\"\")  \n",
    "        j=j-1\n",
    "    k=1\n",
    "    while(k<=2*i-1):\n",
    "        if(i!=row):\n",
    "            if(k==1 or k==2*i-1):\n",
    "                print('*',end=\"\")\n",
    "            else:\n",
    "                print(\" \",end=\"\") \n",
    "        else:\n",
    "            print('*',end=\"\")\n",
    "        k=k+1\n",
    "    print()   \n",
    "    i=i+1  "
   ]
  },
  {
   "cell_type": "code",
   "execution_count": 49,
   "id": "04fbaa3a-6dbc-43fd-94aa-05b1715dd407",
   "metadata": {},
   "outputs": [
    {
     "name": "stdout",
     "output_type": "stream",
     "text": [
      "     \n",
      "    *\n",
      "   * *\n",
      "  *   *\n",
      " *     *\n",
      "---------\n",
      "|       |\n",
      "|       |\n",
      "|       |\n",
      "| _____ |\n",
      "| |   | |\n",
      "| |   | |\n",
      "| |   | |\n",
      "---------\n",
      "\n"
     ]
    }
   ],
   "source": [
    "i=0\n",
    "row=5\n",
    "while(i<=row):\n",
    "    j=row-i\n",
    "    while(j>0):\n",
    "        print(\" \",end=\"\")  \n",
    "        j=j-1\n",
    "    k=1\n",
    "    temp=1\n",
    "    while(k<=2*i-1):\n",
    "        if(i!=row):\n",
    "            if(k==1 or k==2*i-1):\n",
    "                print('*',end=\"\")\n",
    "            else:\n",
    "                print(\" \",end=\"\") \n",
    "        else:\n",
    "            t=1            \n",
    "            while(t<=9): \n",
    "                if(temp==1 or temp==9):\n",
    "                    print('-',end=\"\")\n",
    "                elif(t==1 or t==9):\n",
    "                     print('|',end=\"\")\n",
    "                elif(temp>4): \n",
    "                    if(temp==5):                 \n",
    "                        if (t>=3 and  t<=7):\n",
    "                            print(\"_\",end=\"\")\n",
    "                        else:\n",
    "                              print(\" \",end=\"\")\n",
    "                    else:\n",
    "                        if (t==3 or t==7):\n",
    "                            print('|',end=\"\")\n",
    "                        else:\n",
    "                            print(\" \",end=\"\")\n",
    "                else:   \n",
    "                    print(\" \",end=\"\")\n",
    "                t=t+1\n",
    "            temp+=1\n",
    "            print()    \n",
    "        k=k+1\n",
    "    print()  \n",
    "    i=i+1 "
   ]
  },
  {
   "cell_type": "code",
   "execution_count": 1,
   "id": "c669c3cd-584e-4be5-9cf5-f4e9af1d1189",
   "metadata": {},
   "outputs": [
    {
     "name": "stdout",
     "output_type": "stream",
     "text": [
      "        * \n",
      "      * * \n",
      "    * * * \n",
      "  * * * * \n",
      "* * * * * \n",
      "  * * * * \n",
      "    * * * \n",
      "      * * \n",
      "        * \n",
      "          \n"
     ]
    }
   ],
   "source": [
    "rows = 5\n",
    "i = 1\n",
    "while i <= rows:\n",
    "    j = i\n",
    "    while j < rows:\n",
    "        \n",
    "        print(' ', end=' ')\n",
    "        j += 1\n",
    "    k = 1\n",
    "    while k <= i:\n",
    "        print('*', end=' ')\n",
    "        k += 1\n",
    "    print()\n",
    "    i += 1\n",
    "\n",
    "i = rows\n",
    "while i >= 1:\n",
    "    j = i\n",
    "    while j <= rows:\n",
    "        print(' ', end=' ')\n",
    "        j += 1\n",
    "    k = 1\n",
    "    while k < i:\n",
    "        print('*', end=' ')\n",
    "        k += 1\n",
    "    print('')\n",
    "    i -= 1\n"
   ]
  },
  {
   "cell_type": "markdown",
   "id": "64bc1b03-1e81-4e37-8589-9b2197a273aa",
   "metadata": {},
   "source": [
    "7. Reverse a while loop to display numbers from 10 to 1. "
   ]
  },
  {
   "cell_type": "code",
   "execution_count": 50,
   "id": "c82a04dd-7748-46f3-9132-f6f4fda66f14",
   "metadata": {},
   "outputs": [
    {
     "name": "stdout",
     "output_type": "stream",
     "text": [
      "10\n",
      "9\n",
      "8\n",
      "7\n",
      "6\n",
      "5\n",
      "4\n",
      "3\n",
      "2\n",
      "1\n"
     ]
    }
   ],
   "source": [
    "i=10\n",
    "while (i>0):\n",
    "    print(i)\n",
    "    i=i-1;"
   ]
  },
  {
   "cell_type": "code",
   "execution_count": null,
   "id": "0fdfa9d7-aca3-4f2b-9613-56c4cb2e54b5",
   "metadata": {},
   "outputs": [],
   "source": []
  }
 ],
 "metadata": {
  "kernelspec": {
   "display_name": "Python 3 (ipykernel)",
   "language": "python",
   "name": "python3"
  },
  "language_info": {
   "codemirror_mode": {
    "name": "ipython",
    "version": 3
   },
   "file_extension": ".py",
   "mimetype": "text/x-python",
   "name": "python",
   "nbconvert_exporter": "python",
   "pygments_lexer": "ipython3",
   "version": "3.10.8"
  }
 },
 "nbformat": 4,
 "nbformat_minor": 5
}
