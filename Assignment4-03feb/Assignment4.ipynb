{
 "cells": [
  {
   "cell_type": "markdown",
   "id": "a1c4c72e-44c6-478f-b2f8-da59967e8b10",
   "metadata": {},
   "source": [
    "1. Which keyword is used to create a function? Create a function to return a list of odd numbers in the range of 1 to 25."
   ]
  },
  {
   "cell_type": "markdown",
   "id": "36fb1b4f-051e-4fde-9581-3c2aa77fd82f",
   "metadata": {},
   "source": [
    "Ans: def is the keyword used to create function"
   ]
  },
  {
   "cell_type": "code",
   "execution_count": 2,
   "id": "5c42cef6-65d9-4881-96bb-f7d8bec7b78e",
   "metadata": {},
   "outputs": [],
   "source": [
    "def oddnumber():\n",
    "    n=[]\n",
    "    for i in range(1,26):\n",
    "        if i%2!=0:\n",
    "            n.append(i)\n",
    "    return n"
   ]
  },
  {
   "cell_type": "code",
   "execution_count": 3,
   "id": "f56ec7a8-4d46-499b-895e-48e5f54ff0e4",
   "metadata": {},
   "outputs": [
    {
     "data": {
      "text/plain": [
       "[1, 3, 5, 7, 9, 11, 13, 15, 17, 19, 21, 23, 25]"
      ]
     },
     "execution_count": 3,
     "metadata": {},
     "output_type": "execute_result"
    }
   ],
   "source": [
    "oddnumber()"
   ]
  },
  {
   "cell_type": "markdown",
   "id": "aec333b3-38c5-47a4-9ee7-e9aa50ae73e5",
   "metadata": {},
   "source": [
    "2. Why *args and **kwargs is used in some functions? Create a function each for *args and **kwargs to demonstrate their use."
   ]
  },
  {
   "cell_type": "markdown",
   "id": "e3807952-cc4b-4a78-b29f-8d8758effcd3",
   "metadata": {},
   "source": [
    "Ans: *args and **kwargs both are passed as an argument in the myFun function. By passing *args to myFun simply means that we pass the positional and variable-length arguments which are contained by args. so, “PwSkills ” pass to the arg1 , “teaches” pass to the arg2, and “subject - ” pass to the arg3. When we pass **kwargs as an argument to the myFun it means that it accepts keyword arguments. Like sub1='Data Science', sub2='Java', sub3='Angular' are passed as **kwargs and printing in the same line."
   ]
  },
  {
   "cell_type": "code",
   "execution_count": 5,
   "id": "0ff630ff-c95f-4a64-a675-afae92f78a97",
   "metadata": {},
   "outputs": [],
   "source": [
    "def myFun(*args, **kwargs):\n",
    "    return args, kwargs\n"
   ]
  },
  {
   "cell_type": "code",
   "execution_count": 4,
   "id": "49c864e7-d207-4a6b-b4e6-b8e82faa8730",
   "metadata": {},
   "outputs": [
    {
     "data": {
      "text/plain": [
       "()"
      ]
     },
     "execution_count": 4,
     "metadata": {},
     "output_type": "execute_result"
    }
   ],
   "source": [
    "test5('PwSkills ' ,'teaches ' , 'subject - '\n",
    "      , sub1='Data Science', sub2='Java', sub3='Angular')"
   ]
  },
  {
   "cell_type": "markdown",
   "id": "21249950-eac0-413e-99aa-b4dc30cf5153",
   "metadata": {},
   "source": [
    "3. What is an iterator in python? Name the method used to initialise the iterator object and the method used for iteration. Use these methods to print the first five elements of the given list [2, 4, 6, 8, 10, 12, 14, 16,18, 20]."
   ]
  },
  {
   "cell_type": "markdown",
   "id": "66cb0d6b-10d1-4ad7-b71a-819606f37449",
   "metadata": {},
   "source": [
    "Ans : An iterator is an object that contains a countable number of values. <br>\n",
    "Iter() method is used to initialize the iterator object so that the instance of this object can be used for iterating<br>\n",
    "next() function to retrieve the elements of the iterator in sequential order."
   ]
  },
  {
   "cell_type": "code",
   "execution_count": 1,
   "id": "dbec2fb6-9a4d-4498-be3b-f3a312ddffb1",
   "metadata": {},
   "outputs": [
    {
     "name": "stdout",
     "output_type": "stream",
     "text": [
      "2\n",
      "4\n",
      "6\n",
      "8\n",
      "10\n"
     ]
    }
   ],
   "source": [
    "# define a list\n",
    "my_list = [2, 4, 6, 8, 10, 12, 14, 16,18, 20]\n",
    "\n",
    "# create an iterator from the list\n",
    "iterator = iter(my_list)\n",
    "\n",
    "# get the first element of the iterator\n",
    "print(next(iterator))  \n",
    "# get the second element of the iterator\n",
    "print(next(iterator)) \n",
    "# get the third element of the iterator\n",
    "print(next(iterator))  \n",
    "# get the fourth element of the iterator\n",
    "print(next(iterator))  \n",
    "# get the fifth element of the iterator\n",
    "print(next(iterator))  "
   ]
  },
  {
   "cell_type": "markdown",
   "id": "e482c0af-3a05-4fed-93a1-2b11f0041857",
   "metadata": {},
   "source": [
    "4. What is a generator function in python? Why yield keyword is used? Give an example of a generator function."
   ]
  },
  {
   "cell_type": "markdown",
   "id": "5091dd41-cc5f-4810-b8ff-f015f1fb9479",
   "metadata": {},
   "source": [
    "Ans : A generator is a function that returns an iterator that produces a sequence of values when iterated over.<br>\n",
    "The yield keyword in Python controls the flow of a generator function. This is similar to a return statement used for returning values in Python"
   ]
  },
  {
   "cell_type": "code",
   "execution_count": 4,
   "id": "f266c505-bfcd-48cc-9ccc-13cc4275e645",
   "metadata": {},
   "outputs": [],
   "source": [
    "def Square_generator(n):\n",
    "    for i in range(n):\n",
    "        yield i**2"
   ]
  },
  {
   "cell_type": "code",
   "execution_count": 6,
   "id": "4b37e1fc-016e-4cfe-8b7f-ff63107ccf78",
   "metadata": {},
   "outputs": [
    {
     "name": "stdout",
     "output_type": "stream",
     "text": [
      "0\n",
      "1\n",
      "4\n",
      "9\n",
      "16\n",
      "25\n",
      "36\n",
      "49\n",
      "64\n",
      "81\n"
     ]
    }
   ],
   "source": [
    "for i in Square_generator(10):\n",
    "    print(i)"
   ]
  },
  {
   "cell_type": "markdown",
   "id": "7b6694b1-34a8-469a-b351-92f9face55c0",
   "metadata": {},
   "source": [
    "5. Create a generator function for prime numbers less than 1000. Use the next() method to print the first 20 prime numbers."
   ]
  },
  {
   "cell_type": "code",
   "execution_count": 34,
   "id": "344817a9-36e0-4a9e-a748-3e43fc0272f5",
   "metadata": {},
   "outputs": [],
   "source": [
    "from math import sqrt\n",
    "def is_prime(n):\n",
    "    if (n <= 1):\n",
    "        return False\n",
    "    if (n == 2):\n",
    "        return True\n",
    "    if (n % 2 == 0):\n",
    "        return False\n",
    "\n",
    "    i = 3\n",
    "    while i <= sqrt(n):\n",
    "        if n % i == 0:\n",
    "            return False\n",
    "        i = i + 2\n",
    "\n",
    "    return True\n"
   ]
  },
  {
   "cell_type": "code",
   "execution_count": 35,
   "id": "494bb56d-19c7-482f-a4ed-78b22e8edb2d",
   "metadata": {},
   "outputs": [],
   "source": [
    "def prime_generator():\n",
    "    n = 1\n",
    "    while True:\n",
    "        n += 1\n",
    "        if is_prime(n):\n",
    "            yield n"
   ]
  },
  {
   "cell_type": "code",
   "execution_count": 36,
   "id": "60e3da7f-1729-47d2-abb2-6f33d10f3650",
   "metadata": {},
   "outputs": [
    {
     "name": "stdout",
     "output_type": "stream",
     "text": [
      "2\n",
      "3\n",
      "5\n",
      "7\n",
      "11\n",
      "13\n",
      "17\n",
      "19\n",
      "23\n",
      "29\n",
      "31\n",
      "37\n",
      "41\n",
      "43\n",
      "47\n",
      "53\n",
      "59\n",
      "61\n",
      "67\n",
      "71\n"
     ]
    }
   ],
   "source": [
    "generator = prime_generator()\n",
    "\n",
    "for i in range(20):\n",
    "    print(next(generator))"
   ]
  },
  {
   "cell_type": "code",
   "execution_count": null,
   "id": "82994d5f-a90d-4c6e-a591-65f1081471ce",
   "metadata": {},
   "outputs": [],
   "source": []
  }
 ],
 "metadata": {
  "kernelspec": {
   "display_name": "Python 3 (ipykernel)",
   "language": "python",
   "name": "python3"
  },
  "language_info": {
   "codemirror_mode": {
    "name": "ipython",
    "version": 3
   },
   "file_extension": ".py",
   "mimetype": "text/x-python",
   "name": "python",
   "nbconvert_exporter": "python",
   "pygments_lexer": "ipython3",
   "version": "3.10.8"
  }
 },
 "nbformat": 4,
 "nbformat_minor": 5
}
