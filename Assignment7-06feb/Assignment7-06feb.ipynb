{
 "cells": [
  {
   "cell_type": "markdown",
   "id": "b6915954-a4ee-4793-aeee-1bb8e4f734f9",
   "metadata": {},
   "source": [
    "1. Create a function which will take a list as an argument and return the product of all the numbers after creating a flat list.\n",
    "\n",
    "Use the below-given list as an argument for your function.\n",
    "\n",
    "\n",
    "list1 = [1,2,3,4, [44,55,66, True], False, (34,56,78,89,34), {1,2,3,3,2,1}, {1:34, \"key2\": [55, 67, 78, 89], 4: (45,\n",
    "22, 61, 34)}, [56, 'data science'], 'Machine Learning']\n",
    "\n",
    "\n",
    "Note: you must extract numeric keys and values of the dictionary also."
   ]
  },
  {
   "cell_type": "code",
   "execution_count": 61,
   "id": "4bc985a0-0a27-4000-b0d0-b297825e4fad",
   "metadata": {},
   "outputs": [
    {
     "data": {
      "text/plain": [
       "4134711838987085478833841242112000"
      ]
     },
     "execution_count": 61,
     "metadata": {},
     "output_type": "execute_result"
    }
   ],
   "source": [
    "\n",
    "def Product(l):\n",
    "    list1=[]\n",
    "    def flatten(l):        \n",
    "        for item in l:\n",
    "            if type(item) == list or type(item) == tuple or type(item) == set :  \n",
    "                flatten(item)\n",
    "                \n",
    "            elif type(item) == dict:\n",
    "                for key in item.keys():\n",
    "                    if type(key) == list or type(key) == tuple or type(key) == set:\n",
    "                        flatten(key)\n",
    "                    elif type(key)==int or type(key)==float: \n",
    "                        list1.append(key)\n",
    "                for val in item.values():\n",
    "                    if type(val) == list or type(val) == tuple or type(val) == set:\n",
    "                        flatten(val)\n",
    "                    elif type(val)==int or type(val)==float: \n",
    "                        list1.append(val)       \n",
    "                        \n",
    "            elif type(item)==int or type(item)==float: \n",
    "                list1.append(item)\n",
    "    flatten(l) \n",
    "    product = 1\n",
    "    for num in list1:\n",
    "        product *= num\n",
    "    return product\n",
    "\n",
    "l = [1,2,3,4, [44,55,66, True], False, (34,56,78,89,34), {1,2,3,3,2,1}, {1:34, \"key2\": [55, 67, 78, 89], 4: (45, 22, 61, 34)}, [56, 'data science'], 'Machine Learning']\n",
    "Product(l)"
   ]
  },
  {
   "cell_type": "markdown",
   "id": "fdcc0d39-03ae-4321-a96b-cd655865ea21",
   "metadata": {},
   "source": [
    "2. Write a python program for encrypting a message sent to you by your friend. The logic of encryption should be such that, for a the output should be z. For b, the output should be y. For c, the output should be x respectively. Also, the whitespace should be replaced with a dollar sign. Keep the punctuation marks unchanged.\n",
    "\n",
    "Input Sentence: I want to become a Data Scientist.\n",
    "\n",
    "Encrypt the above input sentence using the program you just created.\n",
    "\n",
    "Note: Convert the given input sentence into lowercase before encrypting. The final output should be\n",
    "lowercase."
   ]
  },
  {
   "cell_type": "code",
   "execution_count": 26,
   "id": "a5307578-ec8c-4ff8-9094-8797d5a38cba",
   "metadata": {},
   "outputs": [
    {
     "name": "stdout",
     "output_type": "stream",
     "text": [
      "i:r,  :$, w:d, a:z, n:m, t:g,  :$, t:g, o:l,  :$, b:y, e:v, c:x, o:l, m:n, e:v,  :$, a:z,  :$, d:w, a:z, t:g, a:z,  :$, s:h, c:x, i:r, e:v, n:m, t:g, i:r, s:h, t:g, \n",
      "Original String - I want to become a Data Scientist\n",
      "Encrypt String  - r$dzmg$gl$yvxlnv$z$wzgz$hxrvmgrhg\n"
     ]
    }
   ],
   "source": [
    "def encrypt(s):   \n",
    "    d = {} \n",
    "    alpha = 'abcdefghijklmnopqrstuvwxyz'\n",
    "    r_alpha='zyxwvutsrqponmlkjihgfedcba'\n",
    "    str1=''\n",
    "    for i in range(0,26):    \n",
    "        d[alpha[i]] = alpha[25-i]\n",
    "    d[' ']='$'\n",
    "    \n",
    "    for i in s.lower():\n",
    "        if i in d:\n",
    "            print(i +':'+d[i]+', ',end='')\n",
    "            str1+=d[i]            \n",
    "        else:\n",
    "            str1+=(i)\n",
    "    print()\n",
    "    print('Original String - '+s)\n",
    "    return str1\n",
    "s='I want to become a Data Scientist'\n",
    "\n",
    "print('Encrypt String  - '+encrypt(s))"
   ]
  }
 ],
 "metadata": {
  "kernelspec": {
   "display_name": "Python 3 (ipykernel)",
   "language": "python",
   "name": "python3"
  },
  "language_info": {
   "codemirror_mode": {
    "name": "ipython",
    "version": 3
   },
   "file_extension": ".py",
   "mimetype": "text/x-python",
   "name": "python",
   "nbconvert_exporter": "python",
   "pygments_lexer": "ipython3",
   "version": "3.10.8"
  }
 },
 "nbformat": 4,
 "nbformat_minor": 5
}
