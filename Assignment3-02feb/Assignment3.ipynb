{
 "cells": [
  {
   "cell_type": "markdown",
   "id": "546410eb-5df4-4f29-a105-cfcf4d22965d",
   "metadata": {},
   "source": [
    "1. What are the characteristics of the tuples? Is tuple immutable?"
   ]
  },
  {
   "cell_type": "markdown",
   "id": "e8a245b0-7053-4ee0-8204-e4e62396e3c3",
   "metadata": {},
   "source": [
    "Ans : Tuples are ordered, indexed collections of data. <br>\n",
    "Similar to string indices, the first value in the tuple will have the index [0], the second value [1], and so on. <br>\n",
    "Tuples can store duplicate values. <br>\n",
    "Once data is assigned to a tuple, the values cannot be changed. <br>\n",
    "Tuples allows to store several data items in one variable. <br>\n",
    "Tuples are defined inside () parenthesis. <br>\n",
    "When ever tuple is created with single value, we need to include 1 comma after the value. <br>\n",
    "t=() or t=(10,) or t=('abc',1, 5.6,9+5j)"
   ]
  },
  {
   "cell_type": "markdown",
   "id": "f789da4f-23d8-44e8-a3db-29dd1756df54",
   "metadata": {},
   "source": [
    "2. What are the two tuple methods in python? Give an example of each method. Give a reason why\n",
    "tuples have only two in-built methods as compared to Lists."
   ]
  },
  {
   "cell_type": "markdown",
   "id": "cc58e02a-6888-4188-82f7-01c8e14412d5",
   "metadata": {},
   "source": [
    "Ans : Count() and Index() are 2 tuple methods. There are only 2 methods because of immutable property of tuples. Once created, they can't be changed."
   ]
  },
  {
   "cell_type": "code",
   "execution_count": 8,
   "id": "224ba5ee-3a6f-4de0-bc68-0004dc722246",
   "metadata": {},
   "outputs": [
    {
     "name": "stdout",
     "output_type": "stream",
     "text": [
      "2\n",
      "3\n"
     ]
    }
   ],
   "source": [
    "##example\n",
    "\n",
    "fruits= ('apple','Mango','Banana','Pinapple','Mango')\n",
    "print(fruits.count('Mango'))\n",
    "print(fruits.index('Pinapple'))"
   ]
  },
  {
   "cell_type": "markdown",
   "id": "e632d9e8-f50b-45c9-a9c7-d50fbea41195",
   "metadata": {},
   "source": [
    "3. Which collection datatypes in python do not allow duplicate items? Write a code using a set to remove duplicates from the given list.\n",
    "\n"
   ]
  },
  {
   "cell_type": "markdown",
   "id": "86df0901-7f22-4837-a196-a9d3a5533c87",
   "metadata": {},
   "source": [
    "Ans : Set do not allow duplicate items."
   ]
  },
  {
   "cell_type": "code",
   "execution_count": 13,
   "id": "81428884-f7bb-4aab-b288-eaf5602e08b8",
   "metadata": {},
   "outputs": [
    {
     "data": {
      "text/plain": [
       "{1, 2, 3, 4}"
      ]
     },
     "execution_count": 13,
     "metadata": {},
     "output_type": "execute_result"
    }
   ],
   "source": [
    "List = [1, 1, 1, 2, 1, 3, 1, 4, 2, 1, 2, 2, 2, 3, 2, 4, 3, 1, 3, 2, 3, 3, 3, 4, 4, 1, 4, 2, 4, 3, 4, 4]\n",
    "List1= set(List)\n",
    "List1"
   ]
  },
  {
   "cell_type": "markdown",
   "id": "551822ab-71cc-40be-8fe6-a9eddc1a40fb",
   "metadata": {},
   "source": [
    "4. Explain the difference between the union() and update() methods for a set. Give an example of each method."
   ]
  },
  {
   "cell_type": "markdown",
   "id": "778b92bc-9229-4cc2-b75d-454031dbe2b3",
   "metadata": {},
   "source": [
    "Ans: Union() returns the set by combinining all the values from both sets and does not modify the original set values.\n",
    "Returned set can stored into another set variable for further use. Whereas Update() method alter the first set by including all the elements from set 2"
   ]
  },
  {
   "cell_type": "code",
   "execution_count": 7,
   "id": "9224c805-0459-4be3-b4ea-e8aec8114797",
   "metadata": {},
   "outputs": [
    {
     "name": "stdout",
     "output_type": "stream",
     "text": [
      "{1, 2, 3, 4}\n",
      "{8, 5, 6, 7}\n"
     ]
    }
   ],
   "source": [
    "s1= {1,2,3,4}\n",
    "s2= {5,6,7,8}\n",
    "s1.union(s2)\n",
    "print(s1)\n",
    "print(s2)"
   ]
  },
  {
   "cell_type": "code",
   "execution_count": 8,
   "id": "60453c22-1faa-4606-8d30-8538d94729aa",
   "metadata": {},
   "outputs": [
    {
     "name": "stdout",
     "output_type": "stream",
     "text": [
      "{1, 2, 3, 4, 5, 6, 7, 8}\n",
      "{8, 5, 6, 7}\n"
     ]
    }
   ],
   "source": [
    "s1= {1,2,3,4}\n",
    "s2= {5,6,7,8}\n",
    "s1.update(s2)\n",
    "print(s1)\n",
    "print(s2)"
   ]
  },
  {
   "cell_type": "markdown",
   "id": "a838f8b5-712f-4cf3-9fc1-5b928062dc85",
   "metadata": {},
   "source": [
    "5. What is a dictionary? Give an example. Also, state whether a dictionary is ordered or unordered."
   ]
  },
  {
   "cell_type": "markdown",
   "id": "386d3489-7048-48cf-8db9-bd7cc62a6d14",
   "metadata": {},
   "source": [
    "Dictionaries are used to store data values in key:value pairs.<br> A dictionary is a collection which is ordered*, changeable and do not allow duplicates.<br> As of Python version 3.7, dictionaries are ordered. In Python 3.6 and earlier, dictionaries are unordered."
   ]
  },
  {
   "cell_type": "code",
   "execution_count": 11,
   "id": "932627b3-2bdc-45dd-b571-0ad622bddb02",
   "metadata": {},
   "outputs": [],
   "source": [
    "Juice= {'Fanta': 36, 'Coco-Cola':45, 'Maaza':[38,45,60]}"
   ]
  },
  {
   "cell_type": "markdown",
   "id": "b95ab2f9-6279-419a-8883-acb1ff003a6d",
   "metadata": {},
   "source": [
    "6. Can we create a nested dictionary? If so, please give an example by creating a simple one-level nested dictionary."
   ]
  },
  {
   "cell_type": "markdown",
   "id": "263fce05-04f4-4405-ba06-4fa582413136",
   "metadata": {},
   "source": [
    "Ans :Yes Nested dictionary can be created"
   ]
  },
  {
   "cell_type": "code",
   "execution_count": 12,
   "id": "122780fe-645c-417c-b778-c105d0a0acc5",
   "metadata": {},
   "outputs": [
    {
     "name": "stdout",
     "output_type": "stream",
     "text": [
      "{'Py': {'year': 1991, 'creator': 'G. van Rossum'}, 'Java': {'year': 1995, 'creator': 'J. Gosling'}, 'C#': {'year': 2000, 'creator': 'Microsoft'}}\n"
     ]
    }
   ],
   "source": [
    "languages = {\n",
    "    \"Py\": {\n",
    "        \"year\": 1991,\n",
    "        \"creator\": \"G. van Rossum\",\n",
    "    },\n",
    "    \"Java\": {\n",
    "        \"year\": 1995,\n",
    "        \"creator\": \"J. Gosling\",\n",
    "    },\n",
    "    \"C#\": {\n",
    "        \"year\": 2000,\n",
    "        \"creator\": \"Microsoft\",\n",
    "    }\n",
    "}\n",
    "print(languages )"
   ]
  },
  {
   "cell_type": "markdown",
   "id": "549cbfec-6dde-4556-924e-a29c77ce3032",
   "metadata": {},
   "source": [
    "7. Using setdefault() method, create key named topics in the given dictionary and also add the value of the key as this list ['Python', 'Machine Learning’, 'Deep Learning']\n",
    "\n"
   ]
  },
  {
   "cell_type": "code",
   "execution_count": 16,
   "id": "dd87302e-d7af-4695-9e9b-9f37ffb6c842",
   "metadata": {},
   "outputs": [
    {
     "name": "stdout",
     "output_type": "stream",
     "text": [
      "['Python', 'Machine Learning', 'Deep Learning']\n",
      "{'language': 'Python', 'course': 'Data Science Masters', 'topics': ['Python', 'Machine Learning', 'Deep Learning']}\n"
     ]
    }
   ],
   "source": [
    "dict1 = {'language' : 'Python', 'course': 'Data Science Masters'}\n",
    "t=dict1.setdefault('topics', ['Python', 'Machine Learning', 'Deep Learning'])\n",
    "print(t)\n",
    "print(dict1)"
   ]
  },
  {
   "cell_type": "markdown",
   "id": "22f8505a-4101-4972-b4b4-5cbe52970d61",
   "metadata": {},
   "source": [
    "8. What are the three view objects in dictionaries? Use the three in-built methods in python to display these three view objects for the given dictionary.\n"
   ]
  },
  {
   "cell_type": "markdown",
   "id": "55c36444-75db-4bad-9b5f-3bb3e8fbbacc",
   "metadata": {},
   "source": [
    "Ans : The main view objects of dictionary in python are keys, values and items."
   ]
  },
  {
   "cell_type": "code",
   "execution_count": 22,
   "id": "932e06c0-3982-4344-b7e8-b6133dbc3e42",
   "metadata": {},
   "outputs": [
    {
     "name": "stdout",
     "output_type": "stream",
     "text": [
      "dict_keys(['course', 'fee', 'duration', 'tutor'])\n",
      "dict_values(['python', 4000, '60 days', 'Richerd'])\n",
      "dict_items([('course', 'python'), ('fee', 4000), ('duration', '60 days'), ('tutor', 'Richerd')])\n"
     ]
    }
   ],
   "source": [
    "dict2={'course': 'python', 'fee': 4000, 'duration': '60 days', 'tutor': 'Richerd'}\n",
    "print(dict2.keys())\n",
    "print(dict2.values())\n",
    "print(dict2.items())"
   ]
  },
  {
   "cell_type": "code",
   "execution_count": null,
   "id": "45be9a51-c5cd-4c34-b5ec-c46b85b58aa7",
   "metadata": {},
   "outputs": [],
   "source": []
  }
 ],
 "metadata": {
  "kernelspec": {
   "display_name": "Python 3 (ipykernel)",
   "language": "python",
   "name": "python3"
  },
  "language_info": {
   "codemirror_mode": {
    "name": "ipython",
    "version": 3
   },
   "file_extension": ".py",
   "mimetype": "text/x-python",
   "name": "python",
   "nbconvert_exporter": "python",
   "pygments_lexer": "ipython3",
   "version": "3.10.8"
  }
 },
 "nbformat": 4,
 "nbformat_minor": 5
}
