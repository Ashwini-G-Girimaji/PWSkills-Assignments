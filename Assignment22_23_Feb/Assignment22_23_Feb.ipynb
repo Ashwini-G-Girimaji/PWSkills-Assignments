{
 "cells": [
  {
   "cell_type": "markdown",
   "id": "7656814f-9b50-4c93-a37f-c5effde23aee",
   "metadata": {},
   "source": [
    "Q1. Create a Pandas Series that contains the following data: 4, 8, 15, 16, 23, and 42. Then, print the series."
   ]
  },
  {
   "cell_type": "code",
   "execution_count": 1,
   "id": "101ae945-9399-4b91-b1b8-1b82e611dee6",
   "metadata": {},
   "outputs": [],
   "source": [
    "import pandas as pd "
   ]
  },
  {
   "cell_type": "code",
   "execution_count": 13,
   "id": "ccf05ccb-c4ff-44b2-bbd3-a5f5609fcb28",
   "metadata": {},
   "outputs": [
    {
     "name": "stdout",
     "output_type": "stream",
     "text": [
      "0     4\n",
      "1     8\n",
      "2    15\n",
      "3    16\n",
      "4    23\n",
      "5    42\n",
      "dtype: int64\n"
     ]
    }
   ],
   "source": [
    "s1= pd.Series([4, 8, 15, 16, 23, 42])\n",
    "print(s1)"
   ]
  },
  {
   "cell_type": "markdown",
   "id": "39620dc3-6060-4e08-84e4-893839c7040a",
   "metadata": {},
   "source": [
    "Q2. Create a variable of list type containing 10 elements in it, and apply pandas.Series function on the\n",
    "variable print it."
   ]
  },
  {
   "cell_type": "code",
   "execution_count": 14,
   "id": "740b6ed1-bc23-46ab-a970-84f3ca590422",
   "metadata": {},
   "outputs": [
    {
     "name": "stdout",
     "output_type": "stream",
     "text": [
      "0     1\n",
      "1     2\n",
      "2     3\n",
      "3     4\n",
      "4     5\n",
      "5     6\n",
      "6     7\n",
      "7     8\n",
      "8     9\n",
      "9    10\n",
      "dtype: int64\n"
     ]
    }
   ],
   "source": [
    "l = [1,2,3,4,5,6,7,8,9,10]\n",
    "s2=pd.Series(l)\n",
    "print(s2)"
   ]
  },
  {
   "cell_type": "markdown",
   "id": "2722b635-3c1e-4836-8337-8184311b8311",
   "metadata": {},
   "source": [
    "Q3. Create a Pandas DataFrame that contains the following data:"
   ]
  },
  {
   "cell_type": "code",
   "execution_count": 17,
   "id": "529663e7-b5db-4eab-9a9f-5848693ba406",
   "metadata": {},
   "outputs": [
    {
     "data": {
      "text/html": [
       "<div>\n",
       "<style scoped>\n",
       "    .dataframe tbody tr th:only-of-type {\n",
       "        vertical-align: middle;\n",
       "    }\n",
       "\n",
       "    .dataframe tbody tr th {\n",
       "        vertical-align: top;\n",
       "    }\n",
       "\n",
       "    .dataframe thead th {\n",
       "        text-align: right;\n",
       "    }\n",
       "</style>\n",
       "<table border=\"1\" class=\"dataframe\">\n",
       "  <thead>\n",
       "    <tr style=\"text-align: right;\">\n",
       "      <th></th>\n",
       "      <th>Name</th>\n",
       "      <th>Age</th>\n",
       "      <th>Gender</th>\n",
       "    </tr>\n",
       "  </thead>\n",
       "  <tbody>\n",
       "    <tr>\n",
       "      <th>0</th>\n",
       "      <td>Alice</td>\n",
       "      <td>25</td>\n",
       "      <td>Female</td>\n",
       "    </tr>\n",
       "    <tr>\n",
       "      <th>1</th>\n",
       "      <td>Bob</td>\n",
       "      <td>30</td>\n",
       "      <td>Male</td>\n",
       "    </tr>\n",
       "    <tr>\n",
       "      <th>2</th>\n",
       "      <td>Claire</td>\n",
       "      <td>27</td>\n",
       "      <td>Female</td>\n",
       "    </tr>\n",
       "  </tbody>\n",
       "</table>\n",
       "</div>"
      ],
      "text/plain": [
       "     Name  Age  Gender\n",
       "0   Alice   25  Female\n",
       "1     Bob   30    Male\n",
       "2  Claire   27  Female"
      ]
     },
     "execution_count": 17,
     "metadata": {},
     "output_type": "execute_result"
    }
   ],
   "source": [
    "data = {\"Name\" : [\"Alice\",\"Bob\",\"Claire\"],\n",
    "        \"Age\":[25,30,27],\n",
    "        \"Gender\":[\"Female\",\"Male\",\"Female\"]}\n",
    "df = pd.DataFrame(data)\n",
    "df\n"
   ]
  },
  {
   "cell_type": "markdown",
   "id": "04660398-2fcd-4d08-8087-7878e80d6906",
   "metadata": {},
   "source": [
    "Q4 . What is ‘DataFrame’ in pandas and how is it different from pandas.series? Explain with an example.\n"
   ]
  },
  {
   "cell_type": "markdown",
   "id": "32bf0b59-7a3b-4db1-90dd-4641435ee6f9",
   "metadata": {},
   "source": [
    "A DataFrame in Pandas is a two-dimensional labeled data structure with columns of potentially different types. It is similar to a spreadsheet or a SQL table, where each column can have a different type (e.g., numeric, string, boolean), and rows are labeled with an index. A DataFrame can be thought of as a collection of Series objects, where each Series represents a column in the DataFrame.\n",
    "\n",
    "The main difference between a Series and a DataFrame is that a Series represents a single column of data, while a DataFrame represents multiple columns of data, arranged in a tabular format.\n",
    "\n",
    "Here's an example to illustrate the difference between a Series and a DataFrame:"
   ]
  },
  {
   "cell_type": "code",
   "execution_count": 21,
   "id": "57698963-759d-411a-b08f-941c936db997",
   "metadata": {},
   "outputs": [
    {
     "name": "stdout",
     "output_type": "stream",
     "text": [
      "Pandas Series:\n",
      " 0    10\n",
      "1    20\n",
      "2    30\n",
      "3    40\n",
      "4    50\n",
      "dtype: int64\n",
      "\n",
      "Pandas DataFrame:\n",
      "     Name  Age  Salary\n",
      "0   John   25   50000\n",
      "1   Jane   30   60000\n",
      "2    Bob   35   70000\n",
      "3  Alice   40   80000\n",
      "4   Mike   45   90000\n"
     ]
    }
   ],
   "source": [
    "import pandas as pd\n",
    "\n",
    "# Creating a Pandas Series\n",
    "my_series = pd.Series([10, 20, 30, 40, 50])\n",
    "\n",
    "# Creating a Pandas DataFrame\n",
    "my_dataframe = pd.DataFrame({\n",
    "    'Name': ['John', 'Jane', 'Bob', 'Alice', 'Mike'],\n",
    "    'Age': [25, 30, 35, 40, 45],\n",
    "    'Salary': [50000, 60000, 70000, 80000, 90000]\n",
    "})\n",
    "\n",
    "# Printing the Series and DataFrame\n",
    "print(\"Pandas Series:\\n\", my_series)\n",
    "print(\"\\nPandas DataFrame:\\n\", my_dataframe)"
   ]
  },
  {
   "cell_type": "markdown",
   "id": "118b2a0d-d0be-4b97-b04a-82fe1de5b439",
   "metadata": {},
   "source": [
    "Q5. What are some common functions you can use to manipulate data in a Pandas DataFrame? Can you give an example of when you might use one of these functions?"
   ]
  },
  {
   "cell_type": "markdown",
   "id": "054f8060-63b7-4af0-a584-ec54854105d0",
   "metadata": {},
   "source": [
    "Pandas provides a wide range of functions that can be used to manipulate data in a DataFrame. Some common functions include:\n",
    "\n",
    "head() and tail(): to view the first or last n rows of a DataFrame <br/>describe(): to view the statistical summary of the DataFrame shape: to view the number of rows and columns in the DataFrame <br/>drop(): to remove rows or columns from the DataFrame groupby(): to group rows based on a column and apply a function to each group <br/>sort_values(): to sort the DataFrame by one or more columns<br/> fillna(): to fill missing values in the DataFrame with a specified value or method <br/>apply(): to apply a function to each element of a DataFrame or a Series<br/> merge(): to join two or more DataFrames based on a common column or index \n"
   ]
  },
  {
   "cell_type": "code",
   "execution_count": 22,
   "id": "bb77bb90-6623-41b9-8a3f-73765c8ae64c",
   "metadata": {},
   "outputs": [
    {
     "name": "stdout",
     "output_type": "stream",
     "text": [
      "count        5.000000\n",
      "mean     70000.000000\n",
      "std      15811.388301\n",
      "min      50000.000000\n",
      "25%      60000.000000\n",
      "50%      70000.000000\n",
      "75%      80000.000000\n",
      "max      90000.000000\n",
      "Name: Salary, dtype: float64\n"
     ]
    }
   ],
   "source": [
    "import pandas as pd\n",
    "\n",
    "# Creating a sample DataFrame\n",
    "employee_data = {\n",
    "    'Name': ['John', 'Jane', 'Bob', 'Alice', 'Mike'],\n",
    "    'Age': [25, 30, 35, 40, 45],\n",
    "    'Salary': [50000, 60000, 70000, 80000, 90000]\n",
    "}\n",
    "df = pd.DataFrame(employee_data)\n",
    "\n",
    "# Using the describe() function to view the statistical summary of the Salary column\n",
    "print(df['Salary'].describe())"
   ]
  },
  {
   "cell_type": "markdown",
   "id": "a1ef9ba4-a853-4c7f-8528-6b1993f99c0f",
   "metadata": {},
   "source": [
    "Q6. Which of the following is mutable in nature Series, DataFrame, Panel?"
   ]
  },
  {
   "cell_type": "markdown",
   "id": "519b96c2-2555-42d3-a0bd-7c1ed4116e12",
   "metadata": {},
   "source": [
    "Among the three data structures provided by Pandas, only the DataFrame and Panel are mutable in nature.\n",
    "\n",
    "A DataFrame is mutable because you can add, remove or modify columns and rows. Similarly, a Panel is mutable because you can add or remove items along the axis.\n",
    "\n",
    "On the other hand, a Series is immutable because it represents a single column of data with an index. Once created, you cannot add or remove elements from a Series. However, you can modify the values of existing elements in a Series."
   ]
  },
  {
   "cell_type": "markdown",
   "id": "2f24bce5-111e-4b43-9dc7-da1181c7794f",
   "metadata": {},
   "source": [
    "Q7. Create a DataFrame using multiple Series. Explain with an example."
   ]
  },
  {
   "cell_type": "code",
   "execution_count": 26,
   "id": "aa6b7ea2-2088-4d02-ae06-494bfacb252e",
   "metadata": {},
   "outputs": [
    {
     "name": "stdout",
     "output_type": "stream",
     "text": [
      "    Name  Age  Gender\n",
      "0   John   25    Male\n",
      "1   Jane   30  Female\n",
      "2    Bob   35    Male\n",
      "3  Alice   40  Female\n",
      "4   Mike   45    Male\n"
     ]
    }
   ],
   "source": [
    "import pandas as pd\n",
    "\n",
    "# Creating Series for Name, Age and Gender\n",
    "name = pd.Series(['John', 'Jane', 'Bob', 'Alice', 'Mike'])\n",
    "age = pd.Series([25, 30, 35, 40, 45])\n",
    "gender = pd.Series(['Male', 'Female', 'Male', 'Female', 'Male'])\n",
    "\n",
    "# Creating a DataFrame by passing the Series as arguments\n",
    "df = pd.DataFrame({'Name': name, 'Age': age, 'Gender': gender})\n",
    "\n",
    "# Printing the DataFrame\n",
    "print(df)"
   ]
  },
  {
   "cell_type": "code",
   "execution_count": null,
   "id": "5fbf79ac-b1c6-4448-a1d5-88808faf987c",
   "metadata": {},
   "outputs": [],
   "source": []
  }
 ],
 "metadata": {
  "kernelspec": {
   "display_name": "Python 3 (ipykernel)",
   "language": "python",
   "name": "python3"
  },
  "language_info": {
   "codemirror_mode": {
    "name": "ipython",
    "version": 3
   },
   "file_extension": ".py",
   "mimetype": "text/x-python",
   "name": "python",
   "nbconvert_exporter": "python",
   "pygments_lexer": "ipython3",
   "version": "3.10.8"
  }
 },
 "nbformat": 4,
 "nbformat_minor": 5
}
