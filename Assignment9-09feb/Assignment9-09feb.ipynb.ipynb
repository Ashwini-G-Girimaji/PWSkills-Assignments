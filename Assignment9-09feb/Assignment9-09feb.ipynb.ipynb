{
 "cells": [
  {
   "cell_type": "markdown",
   "id": "1b5ae2cd-627a-42e2-8887-681e70c35611",
   "metadata": {},
   "source": [
    "1. Create a vehicle class with an init method having instance variables as name_of_vehicle, max_speed and average_of_vehicle."
   ]
  },
  {
   "cell_type": "code",
   "execution_count": 1,
   "id": "d4491d5e-544e-46f2-8a67-8ac61db5ef6b",
   "metadata": {},
   "outputs": [
    {
     "name": "stdout",
     "output_type": "stream",
     "text": [
      "Innova\n",
      "180\n",
      "120\n"
     ]
    }
   ],
   "source": [
    "class Vehicle:\n",
    "    def __init__(self,name_of_vehicle,max_speed ,average_of_vehicle):\n",
    "        self.name_of_vehicle=name_of_vehicle\n",
    "        self.max_speed=max_speed\n",
    "        self.average_of_vehicle =average_of_vehicle\n",
    "        \n",
    "V1=Vehicle('Innova',180, 120)       \n",
    "print(V1.name_of_vehicle)\n",
    "print(V1.max_speed)\n",
    "print(V1.average_of_vehicle)\n"
   ]
  },
  {
   "cell_type": "markdown",
   "id": "6bd68e53-82f6-47bd-b612-c2cd7aeec5be",
   "metadata": {},
   "source": [
    "2. Create a child class car from the vehicle class created in Que 1, which will inherit the vehicle class.<br>\n",
    "Create a method named seating_capacity which takes capacity as an argument and returns the name of the vehicle and its seating capacity.\n"
   ]
  },
  {
   "cell_type": "code",
   "execution_count": 7,
   "id": "c3c3043a-d110-42e2-ad45-e41f6a517118",
   "metadata": {},
   "outputs": [
    {
     "name": "stdout",
     "output_type": "stream",
     "text": [
      "('Innova', 7)\n"
     ]
    }
   ],
   "source": [
    "class Vehicle:\n",
    "    def __init__(self,name_of_vehicle,max_speed ,average_of_vehicle):\n",
    "        self.name_of_vehicle=name_of_vehicle\n",
    "        self.max_speed=max_speed\n",
    "        self.average_of_vehicle =average_of_vehicle\n",
    "        \n",
    "class car(Vehicle):\n",
    "    def seating_capacity(self, capacity):\n",
    "        return self.name_of_vehicle, capacity\n",
    "    \n",
    "car1= car('Innova',180, 120)\n",
    "print(car1.seating_capacity(7))"
   ]
  },
  {
   "cell_type": "markdown",
   "id": "212f8cd7-b5db-4224-90da-5309ad667610",
   "metadata": {},
   "source": [
    "3. What is multiple inheritance? Write a python code to demonstrate multiple inheritance.\n"
   ]
  },
  {
   "cell_type": "markdown",
   "id": "3f0b5332-ce9a-4687-8a27-78b54ac96a7f",
   "metadata": {},
   "source": [
    "One classs inheriting properties and methods from multiple parent class is called multiple inheritance.\n"
   ]
  },
  {
   "cell_type": "code",
   "execution_count": 1,
   "id": "cc4f5bf9-9378-47bf-9246-0da15e01a787",
   "metadata": {},
   "outputs": [
    {
     "name": "stdout",
     "output_type": "stream",
     "text": [
      "Parent1 method1\n",
      "Parent2 method2\n"
     ]
    }
   ],
   "source": [
    "class Parent1:\n",
    "    def method1(self):\n",
    "        print(\"Parent1 method1\")\n",
    "\n",
    "class Parent2:\n",
    "    def method2(self):\n",
    "        print(\"Parent2 method2\")\n",
    "\n",
    "class Child(Parent1, Parent2):\n",
    "    pass\n",
    "\n",
    "c = Child()\n",
    "c.method1()\n",
    "c.method2()"
   ]
  },
  {
   "cell_type": "markdown",
   "id": "033322f4-8484-40e1-9866-cee4b793dbef",
   "metadata": {},
   "source": [
    "4. What are getter and setter in python? Create a class and create a getter and a setter method in this class."
   ]
  },
  {
   "cell_type": "markdown",
   "id": "fc162bba-a03c-4aeb-852f-7bea1240bb95",
   "metadata": {},
   "source": [
    "In object-oriented programming, getters and setters are methods used to retrieve and update the values of object properties, respectively. The use of getters and setters is a common technique for encapsulating object data and ensuring that it can be accessed and modified in a controlled and predictable manner."
   ]
  },
  {
   "cell_type": "code",
   "execution_count": 2,
   "id": "d82cacb7-efb5-4cd9-b16d-30f124eaa41c",
   "metadata": {},
   "outputs": [
    {
     "name": "stdout",
     "output_type": "stream",
     "text": [
      "Rahul\n",
      "Manish\n"
     ]
    }
   ],
   "source": [
    "class Person:\n",
    "    def __init__(self, name):\n",
    "        self._name = name\n",
    "\n",
    "    def get_name(self):\n",
    "        return self._name\n",
    "\n",
    "    def set_name(self, name):\n",
    "        self._name = name\n",
    "\n",
    "person = Person(\"Rahul\")\n",
    "print(person.get_name()) \n",
    "person.set_name(\"Manish\")\n",
    "print(person.get_name())"
   ]
  },
  {
   "cell_type": "markdown",
   "id": "0ff131db-99cc-4f4a-aa46-ab6554aa6865",
   "metadata": {},
   "source": [
    "5. What is method overriding in python? Write a python code to demonstrate method overriding"
   ]
  },
  {
   "cell_type": "markdown",
   "id": "a34a3547-11b0-4f76-a837-977067525811",
   "metadata": {},
   "source": [
    "Method overriding is a feature of object-oriented programming in which a subclass can provide a new implementation of a method that is already defined in its parent class. The subclass method is said to \"override\" the parent class method. This allows the subclass to change or extend the behavior of the method inherited from the parent class, while still maintaining the same method signature."
   ]
  },
  {
   "cell_type": "code",
   "execution_count": 4,
   "id": "853e1fbe-3b5d-40b7-ae7f-c24d2931a4fa",
   "metadata": {},
   "outputs": [
    {
     "name": "stdout",
     "output_type": "stream",
     "text": [
      "200\n",
      "314.0\n"
     ]
    }
   ],
   "source": [
    "class Shape:\n",
    "    def area(self):\n",
    "        pass\n",
    "\n",
    "class Rectangle(Shape):\n",
    "    def __init__(self, width, height):\n",
    "        self.width = width\n",
    "        self.height = height\n",
    "\n",
    "    def area(self):\n",
    "        return self.width * self.height\n",
    "\n",
    "class Circle(Shape):\n",
    "    def __init__(self, radius):\n",
    "        self.radius = radius\n",
    "\n",
    "    def area(self):\n",
    "        return 3.14 * self.radius * self.radius\n",
    "\n",
    "rect = Rectangle(10, 20)\n",
    "print(rect.area()) # Output: 200\n",
    "\n",
    "circle = Circle(10)\n",
    "print(circle.area()) # Output: 314.0"
   ]
  },
  {
   "cell_type": "code",
   "execution_count": null,
   "id": "f75d55f0-fb52-4125-9da8-c6980d55c91e",
   "metadata": {},
   "outputs": [],
   "source": []
  }
 ],
 "metadata": {
  "kernelspec": {
   "display_name": "Python 3 (ipykernel)",
   "language": "python",
   "name": "python3"
  },
  "language_info": {
   "codemirror_mode": {
    "name": "ipython",
    "version": 3
   },
   "file_extension": ".py",
   "mimetype": "text/x-python",
   "name": "python",
   "nbconvert_exporter": "python",
   "pygments_lexer": "ipython3",
   "version": "3.10.8"
  }
 },
 "nbformat": 4,
 "nbformat_minor": 5
}
