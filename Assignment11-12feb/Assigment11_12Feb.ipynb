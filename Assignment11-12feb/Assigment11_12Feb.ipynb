{
 "cells": [
  {
   "cell_type": "markdown",
   "id": "9593d715-28d0-4d04-8e53-a6f4f5930475",
   "metadata": {},
   "source": [
    "1. What is an Exception in python? Write the difference between Exceptions and Syntax errors."
   ]
  },
  {
   "cell_type": "markdown",
   "id": "8bd60126-19ea-4327-ad37-6eb5f5f7a425",
   "metadata": {},
   "source": [
    "In Python, an Exception is an error that occurs during the execution of a program. When an Exception occurs, the program stops executing and Python raises an error message that describes the type of exception that occurred and the line of code where the exception occurred.\n",
    "\n",
    "Exceptions can occur for a variety of reasons, such as when a program tries to perform an operation on data that is not the expected type or when a program tries to access a resource that is not available. Python provides a set of built-in Exception classes that can be used to handle different types of exceptions.\n",
    "\n",
    "Syntax errors, on the other hand, occur when there is a problem with the syntax of the Python code itself. These errors occur before the program is executed and are caught by the Python interpreter before the code is run. Examples of syntax errors include forgetting to close a parentheses or a quotation mark, or using an incorrect keyword or operator.\n",
    "\n",
    "Here's an example that demonstrates the difference between Exceptions and Syntax errors:"
   ]
  },
  {
   "cell_type": "code",
   "execution_count": 10,
   "id": "9b30560e-966d-4411-9ac0-aebf8d8850a2",
   "metadata": {},
   "outputs": [
    {
     "ename": "SyntaxError",
     "evalue": "invalid syntax. Maybe you meant '==' or ':=' instead of '='? (10888459.py, line 9)",
     "output_type": "error",
     "traceback": [
      "\u001b[0;36m  Cell \u001b[0;32mIn[10], line 9\u001b[0;36m\u001b[0m\n\u001b[0;31m    if b = 5:\u001b[0m\n\u001b[0m       ^\u001b[0m\n\u001b[0;31mSyntaxError\u001b[0m\u001b[0;31m:\u001b[0m invalid syntax. Maybe you meant '==' or ':=' instead of '='?\n"
     ]
    }
   ],
   "source": [
    "# Example of an Exception\n",
    "try:\n",
    "    a = 10 / 0\n",
    "except ZeroDivisionError:\n",
    "    print(\"Error: Division by zero\")\n",
    "\n",
    "# Example of a Syntax error\n",
    "b = 10\n",
    "if b = 5:\n",
    "    print(\"b is equal to 5\")"
   ]
  },
  {
   "cell_type": "markdown",
   "id": "afd15b4d-2d83-411d-84da-717bbae6acf1",
   "metadata": {},
   "source": [
    "In the first example, we try to divide the number 10 by 0, which is not allowed. This causes a ZeroDivisionError Exception to be raised, which we catch and handle by printing an error message.\n",
    "\n",
    "In the second example, we have a syntax error in the if statement, where we are using the assignment operator (=) instead of the equality operator (==). This causes a syntax error, which is caught by the Python interpreter and prevents the program from executing.\n",
    "\n",
    "In summary, Exceptions are errors that occur during the execution of a program, while Syntax errors are errors that occur before the program is executed, due to problems with the syntax of the Python code itself."
   ]
  },
  {
   "cell_type": "markdown",
   "id": "dc13685f-6f5d-487e-9569-275443178ba3",
   "metadata": {},
   "source": [
    "2. What happens when an exception is not handled? Explain with an example"
   ]
  },
  {
   "cell_type": "markdown",
   "id": "629b2d2e-add1-4e98-80f8-f6f919e6d206",
   "metadata": {},
   "source": [
    "When an exception is not handled in a Python program, it will cause the program to terminate and an error message will be displayed that describes the type of exception that occurred and the line of code where the exception occurred.\n",
    "\n",
    "Here's an example that demonstrates what happens when an exception is not handled:"
   ]
  },
  {
   "cell_type": "code",
   "execution_count": 2,
   "id": "dc7984e5-b387-44a6-85fa-7086604321a6",
   "metadata": {},
   "outputs": [
    {
     "ename": "ZeroDivisionError",
     "evalue": "division by zero",
     "output_type": "error",
     "traceback": [
      "\u001b[0;31m---------------------------------------------------------------------------\u001b[0m",
      "\u001b[0;31mZeroDivisionError\u001b[0m                         Traceback (most recent call last)",
      "Cell \u001b[0;32mIn[2], line 2\u001b[0m\n\u001b[1;32m      1\u001b[0m \u001b[38;5;66;03m# Example of an unhandled exception\u001b[39;00m\n\u001b[0;32m----> 2\u001b[0m a \u001b[38;5;241m=\u001b[39m \u001b[38;5;241;43m10\u001b[39;49m\u001b[43m \u001b[49m\u001b[38;5;241;43m/\u001b[39;49m\u001b[43m \u001b[49m\u001b[38;5;241;43m0\u001b[39;49m\n\u001b[1;32m      3\u001b[0m \u001b[38;5;28mprint\u001b[39m(\u001b[38;5;124m\"\u001b[39m\u001b[38;5;124mResult: \u001b[39m\u001b[38;5;124m\"\u001b[39m, a)\n",
      "\u001b[0;31mZeroDivisionError\u001b[0m: division by zero"
     ]
    }
   ],
   "source": [
    "# Example of an unhandled exception\n",
    "a = 10 / 0\n",
    "print(\"Result: \", a)"
   ]
  },
  {
   "cell_type": "markdown",
   "id": "508510de-3f66-4d82-8a67-5b1d0987f39d",
   "metadata": {},
   "source": [
    "As we can see from the error message, Python tells us that a ZeroDivisionError occurred and that it was caused by a division by zero on line 1 of the code. The \"Traceback\" section of the error message shows the sequence of function calls that led to the exception.\n",
    "\n",
    "In summary, if an exception is not handled in a Python program, it will cause the program to terminate and display an error message that describes the type of exception that occurred and the line of code where the exception occurred. It's important to handle exceptions in your code to prevent unexpected program termination and to provide a graceful way to handle errors."
   ]
  },
  {
   "cell_type": "markdown",
   "id": "3712d531-5842-46dd-be1a-67d94cac6587",
   "metadata": {},
   "source": [
    "3.Which Python statements are used to catch and handle exceptions? Explain with an example"
   ]
  },
  {
   "cell_type": "markdown",
   "id": "dd02c3a2-6f87-4787-ad77-8faded587744",
   "metadata": {},
   "source": [
    "\n",
    "In Python, the try and except statements are used to catch and handle exceptions. The try statement is used to enclose a block of code that might raise an exception, while the except statement is used to specify how to handle the exception if one is raised.\n",
    "\n",
    "Here's an example that demonstrates how to catch and handle an exception in Python using try and except:"
   ]
  },
  {
   "cell_type": "code",
   "execution_count": 3,
   "id": "8e73234f-bccc-41c8-a08b-19c29c16f15d",
   "metadata": {},
   "outputs": [
    {
     "name": "stdout",
     "output_type": "stream",
     "text": [
      "Error: Division by zero\n"
     ]
    }
   ],
   "source": [
    "try:\n",
    "    a = 10 / 0\n",
    "except ZeroDivisionError:\n",
    "    print(\"Error: Division by zero\")"
   ]
  },
  {
   "cell_type": "markdown",
   "id": "6f800f4b-3fce-4718-be73-f7a99047005b",
   "metadata": {},
   "source": [
    "4.Explain with an example:\n",
    "    a. try and else b. finally c. raise"
   ]
  },
  {
   "cell_type": "markdown",
   "id": "0c6f8614-14ac-4d2e-b85d-fff1e55453c8",
   "metadata": {},
   "source": [
    "In Python, the try statement can be followed by an optional else block. The else block is executed only if the try block does not raise an exception. It is often used to specify code that should be executed regardless of whether an exception occurred or not. Here's an example:"
   ]
  },
  {
   "cell_type": "code",
   "execution_count": 4,
   "id": "3d4ba07b-c470-43b1-b9d1-72f81de14874",
   "metadata": {},
   "outputs": [
    {
     "name": "stdout",
     "output_type": "stream",
     "text": [
      "a = 2.0\n"
     ]
    }
   ],
   "source": [
    "try:\n",
    "    a = 10 / 5\n",
    "except ZeroDivisionError:\n",
    "    print(\"Error: Division by zero\")\n",
    "else:\n",
    "    print(\"a =\", a)"
   ]
  },
  {
   "cell_type": "markdown",
   "id": "807019b0-7c73-480e-aeab-911c1841ddb8",
   "metadata": {},
   "source": [
    "b. finally:\n",
    "    In Python, the finally block can be used to specify code that should be executed regardless of whether an exception was raised or not. The finally block is always executed, even if an exception occurred and was caught by an except block. Here's an example:"
   ]
  },
  {
   "cell_type": "code",
   "execution_count": 7,
   "id": "a5bdbe45-1d94-4b40-af45-b30c1c188a38",
   "metadata": {},
   "outputs": [
    {
     "name": "stdout",
     "output_type": "stream",
     "text": [
      "Error: Division by zero\n"
     ]
    }
   ],
   "source": [
    "def divide(a, b):\n",
    "    if b == 0:\n",
    "        raise ZeroDivisionError(\"Error: Division by zero\")\n",
    "    else:\n",
    "        return a / b\n",
    "\n",
    "try:\n",
    "    result = divide(10, 0)\n",
    "except ZeroDivisionError as e:\n",
    "    print(e)"
   ]
  },
  {
   "cell_type": "markdown",
   "id": "1f368257-3a0e-4a2b-984a-e1d19559178c",
   "metadata": {},
   "source": [
    "4. What are Custom Exceptions in python? Why do we need Custom Exceptions? Explain with an example"
   ]
  },
  {
   "cell_type": "markdown",
   "id": "152de250-02e4-456e-9652-a966d40c765d",
   "metadata": {},
   "source": [
    "In Python, custom exceptions can be defined by creating a new class that inherits from the built-in Exception class. These custom exceptions can be used to represent specific error conditions that are not covered by the built-in exceptions, and can provide more specific information about what went wrong in the code.\n",
    "\n",
    "We need custom exceptions in Python when we want to raise exceptions that are specific to our own code or application. By creating custom exceptions, we can give more meaningful error messages and provide better feedback to the user. This can help with debugging and troubleshooting, and can make our code more readable and maintainable.\n",
    "\n",
    "Here's an example of how to create a custom exception in Python:"
   ]
  },
  {
   "cell_type": "code",
   "execution_count": 8,
   "id": "d5c0e2be-b38f-4eeb-8368-7ea6ce0cd986",
   "metadata": {},
   "outputs": [
    {
     "name": "stdout",
     "output_type": "stream",
     "text": [
      "Error: Negative number not allowed: -5\n"
     ]
    }
   ],
   "source": [
    "class NegativeNumberError(Exception):\n",
    "    def __init__(self, number):\n",
    "        self.number = number\n",
    "        self.message = \"Error: Negative number not allowed\"\n",
    "        super().__init__(self.message)\n",
    "\n",
    "    def __str__(self):\n",
    "        return f\"{self.message}: {self.number}\"\n",
    "\n",
    "def divide(a, b):\n",
    "    if b < 0:\n",
    "        raise NegativeNumberError(b)\n",
    "    else:\n",
    "        return a / b\n",
    "\n",
    "try:\n",
    "    result = divide(10, -5)\n",
    "except NegativeNumberError as e:\n",
    "    print(e)"
   ]
  },
  {
   "cell_type": "markdown",
   "id": "9a0e2e2a-a1d2-437b-88e4-ba669559bda2",
   "metadata": {},
   "source": [
    "5. Create custom exception class. Use this class to handle an exception."
   ]
  },
  {
   "cell_type": "code",
   "execution_count": 9,
   "id": "197f4cbf-cf93-49ce-b4c2-1e52651d758e",
   "metadata": {},
   "outputs": [
    {
     "name": "stdout",
     "output_type": "stream",
     "text": [
      "Error: Division by zero not allowed\n"
     ]
    }
   ],
   "source": [
    "class CustomException(Exception):\n",
    "    def __init__(self, message):\n",
    "        self.message = message\n",
    "        super().__init__(self.message)\n",
    "\n",
    "def divide(a, b):\n",
    "    if b == 0:\n",
    "        raise CustomException(\"Error: Division by zero not allowed\")\n",
    "    else:\n",
    "        return a / b\n",
    "\n",
    "try:\n",
    "    result = divide(10, 0)\n",
    "except CustomException as e:\n",
    "    print(e.message)"
   ]
  },
  {
   "cell_type": "code",
   "execution_count": null,
   "id": "dc8774ce-e6ce-41fe-929b-292677b83d94",
   "metadata": {},
   "outputs": [],
   "source": []
  }
 ],
 "metadata": {
  "kernelspec": {
   "display_name": "Python 3 (ipykernel)",
   "language": "python",
   "name": "python3"
  },
  "language_info": {
   "codemirror_mode": {
    "name": "ipython",
    "version": 3
   },
   "file_extension": ".py",
   "mimetype": "text/x-python",
   "name": "python",
   "nbconvert_exporter": "python",
   "pygments_lexer": "ipython3",
   "version": "3.10.8"
  }
 },
 "nbformat": 4,
 "nbformat_minor": 5
}
