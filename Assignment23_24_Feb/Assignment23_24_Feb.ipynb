{
 "cells": [
  {
   "cell_type": "markdown",
   "id": "7a047895-1eec-41ce-b193-cea600ac211e",
   "metadata": {},
   "source": [
    "Q1. List any five functions of the pandas library with execution."
   ]
  },
  {
   "cell_type": "code",
   "execution_count": null,
   "id": "f5d3dd56-3e91-413c-8a21-711c455ad6b9",
   "metadata": {},
   "outputs": [],
   "source": [
    "read_csv(): This function is used to read a CSV file and create a DataFrame object.\n",
    "\n",
    "head(): This function is used to display the first few rows of a DataFrame.\n",
    "\n",
    "groupby(): This function is used to group rows of a DataFrame based on one or more columns.\n",
    "\n",
    "fillna(): This function is used to replace missing values (NaN) in a DataFrame with a specified value.\n",
    "\n",
    "plot(): This function is used to create plots from data in a DataFrame."
   ]
  },
  {
   "cell_type": "markdown",
   "id": "9d972c2d-236b-46f6-b920-05a2ac9dc849",
   "metadata": {},
   "source": [
    "Q2. Given a Pandas DataFrame df with columns 'A', 'B', and 'C', write a Python function to re-index the DataFrame with a new index that starts from 1 and increments by 2 for each \n",
    "row"
   ]
  },
  {
   "cell_type": "code",
   "execution_count": 9,
   "id": "26933f4f-6430-475b-ab08-097c7a9bd7bf",
   "metadata": {},
   "outputs": [
    {
     "name": "stdout",
     "output_type": "stream",
     "text": [
      "891\n",
      "      PassengerId  Survived  Pclass  \\\n",
      "1             2.0       1.0     1.0   \n",
      "3             4.0       1.0     1.0   \n",
      "5             6.0       0.0     3.0   \n",
      "7             8.0       0.0     3.0   \n",
      "9            10.0       1.0     2.0   \n",
      "...           ...       ...     ...   \n",
      "1773          NaN       NaN     NaN   \n",
      "1775          NaN       NaN     NaN   \n",
      "1777          NaN       NaN     NaN   \n",
      "1779          NaN       NaN     NaN   \n",
      "1781          NaN       NaN     NaN   \n",
      "\n",
      "                                                   Name     Sex   Age  SibSp  \\\n",
      "1     Cumings, Mrs. John Bradley (Florence Briggs Th...  female  38.0    1.0   \n",
      "3          Futrelle, Mrs. Jacques Heath (Lily May Peel)  female  35.0    1.0   \n",
      "5                                      Moran, Mr. James    male   NaN    0.0   \n",
      "7                        Palsson, Master. Gosta Leonard    male   2.0    3.0   \n",
      "9                   Nasser, Mrs. Nicholas (Adele Achem)  female  14.0    1.0   \n",
      "...                                                 ...     ...   ...    ...   \n",
      "1773                                                NaN     NaN   NaN    NaN   \n",
      "1775                                                NaN     NaN   NaN    NaN   \n",
      "1777                                                NaN     NaN   NaN    NaN   \n",
      "1779                                                NaN     NaN   NaN    NaN   \n",
      "1781                                                NaN     NaN   NaN    NaN   \n",
      "\n",
      "      Parch    Ticket     Fare Cabin Embarked  \n",
      "1       0.0  PC 17599  71.2833   C85        C  \n",
      "3       0.0    113803  53.1000  C123        S  \n",
      "5       0.0    330877   8.4583   NaN        Q  \n",
      "7       1.0    349909  21.0750   NaN        S  \n",
      "9       0.0    237736  30.0708   NaN        C  \n",
      "...     ...       ...      ...   ...      ...  \n",
      "1773    NaN       NaN      NaN   NaN      NaN  \n",
      "1775    NaN       NaN      NaN   NaN      NaN  \n",
      "1777    NaN       NaN      NaN   NaN      NaN  \n",
      "1779    NaN       NaN      NaN   NaN      NaN  \n",
      "1781    NaN       NaN      NaN   NaN      NaN  \n",
      "\n",
      "[891 rows x 12 columns]\n"
     ]
    }
   ],
   "source": [
    "import pandas as pd\n",
    "def reindex(df):\n",
    "    newindex = pd.RangeIndex(start=1,step=2,stop=len(df)*2)\n",
    "    return df.reindex(newindex)\n",
    "    \n",
    "df= pd.read_csv(\"https://raw.githubusercontent.com/datasciencedojo/datasets/master/titanic.csv\")\n",
    "print(reindex(df))\n"
   ]
  },
  {
   "cell_type": "markdown",
   "id": "a1b4050f-1bb0-4a6a-a942-a693734f7113",
   "metadata": {},
   "source": [
    "Q3. You have a Pandas DataFrame df with a column named 'Values'. <br>Write a Python function that iterates over the DataFrame and calculates the sum of the first three values in the 'Values' column. The function should print the sum to the console.<br>\n",
    "\n",
    "For example, if the 'Values' column of df contains the values [10, 20, 30, 40, 50], your function should calculate and print the sum of the first three values, which is 60."
   ]
  },
  {
   "cell_type": "code",
   "execution_count": 22,
   "id": "100059ac-5aba-47a2-bde2-4bf875484d36",
   "metadata": {},
   "outputs": [
    {
     "name": "stdout",
     "output_type": "stream",
     "text": [
      "Sum of first 3 values 60\n"
     ]
    }
   ],
   "source": [
    "def sum(df):\n",
    "    s=0\n",
    "    n=0\n",
    "    for i in df.iterrows():         \n",
    "        s=s+int(i[1])\n",
    "        n=n+1\n",
    "        if(n==3):\n",
    "            break\n",
    "    print(\"Sum of first 3 values\",s)\n",
    "import pandas as pd\n",
    "data={\"Values\":  [10, 20, 30, 40, 50]}\n",
    "df=pd.DataFrame(data)\n",
    "sum(df)"
   ]
  },
  {
   "cell_type": "markdown",
   "id": "3f5315a8-8b1d-4b02-b762-bcba88f8c325",
   "metadata": {},
   "source": [
    "Q4. Given a Pandas DataFrame df with a column 'Text', write a Python function to create a new column 'Word_Count' that contains the number of words in each row of the 'Text' column."
   ]
  },
  {
   "cell_type": "code",
   "execution_count": 25,
   "id": "e7c6c6f2-a47f-447b-8643-b598c085dcad",
   "metadata": {},
   "outputs": [
    {
     "name": "stdout",
     "output_type": "stream",
     "text": [
      "                                              Values  Word_count\n",
      "0  India, officially the Republic of India, is a ...          12\n",
      "1  It is the seventh-largest country by area, the...          24\n",
      "2  Modern humans arrived on the Indian subcontine...          15\n"
     ]
    }
   ],
   "source": [
    "def wordcount(df):\n",
    "    df[\"Word_count\"] = df[\"Values\"].apply(lambda x : len(x.split()))\n",
    "    print(df)\n",
    "    \n",
    "import pandas as pd\n",
    "data={\"Values\":  [\"India, officially the Republic of India, is a country in South Asia.\",\n",
    "                  \"It is the seventh-largest country by area, the most populous country as of 1 May 2023, and the most populous democracy in the world.\",\n",
    "                 \"Modern humans arrived on the Indian subcontinent from Africa no later than 55,000 years ago.\"]}\n",
    "df=pd.DataFrame(data)\n",
    "wordcount(df)"
   ]
  },
  {
   "cell_type": "markdown",
   "id": "c24b4f4f-11b1-403a-816f-e0a8b4fb8b19",
   "metadata": {},
   "source": [
    "Q5. How are DataFrame.size() and DataFrame.shape() different? "
   ]
  },
  {
   "cell_type": "markdown",
   "id": "d60f0bf9-1e4e-4b89-b4a1-ece4050a0076",
   "metadata": {},
   "source": [
    "DataFrame.size and DataFrame.shape are two different attributes of a pandas DataFrame object that provide different information about the DataFrame:\n",
    "\n",
    "DataFrame.size: This attribute returns the total number of elements in the DataFrame, which is equal to the product of the number of rows and columns. For example, if a DataFrame has 5 rows and 3 columns, df.size will return 15.\n",
    "\n",
    "DataFrame.shape: This attribute returns a tuple containing the number of rows and columns in the DataFrame, respectively. For example, if a DataFrame has 5 rows and 3 columns, df.shape will return (5, 3).\n",
    "\n",
    "In summary, DataFrame.size returns the total number of elements in the DataFrame, while DataFrame.shape returns the number of rows and columns as a tuple. Both attributes can be useful in different contexts depending on the information you need about the DataFrame."
   ]
  },
  {
   "cell_type": "markdown",
   "id": "bd735f8f-22b2-418b-8828-42c56f478314",
   "metadata": {},
   "source": [
    "Q6.Which function of pandas do we use to read an excel file?\n"
   ]
  },
  {
   "cell_type": "markdown",
   "id": "2c6336cb-f6b4-4ff8-a048-8709849b14d0",
   "metadata": {},
   "source": [
    "read_excel()"
   ]
  },
  {
   "cell_type": "markdown",
   "id": "2841396a-a36d-4b9c-b88c-b2fb56d6c145",
   "metadata": {},
   "source": [
    "Q7. You have a Pandas DataFrame df that contains a column named 'Email' that contains email addresses in the format 'username@domain.com'. Write a Python function that creates a new column 'Username' in df that contains only the username part of each email address."
   ]
  },
  {
   "cell_type": "code",
   "execution_count": 28,
   "id": "681ca480-dc35-4755-8b54-16ef93f0bd14",
   "metadata": {},
   "outputs": [
    {
     "name": "stdout",
     "output_type": "stream",
     "text": [
      "            email Username\n",
      "0  abcd@gmail.com     abcd\n",
      "1  efgh@gmail.com     efgh\n",
      "2  mnop@gmail.com     mnop\n"
     ]
    }
   ],
   "source": [
    "def username(df):\n",
    "    df[\"Username\"] = df[\"email\"].apply(lambda x : x.split(\"@\")[0])\n",
    "    print(df)\n",
    "    \n",
    "import pandas as pd\n",
    "data={\"email\":  [\"abcd@gmail.com\",\n",
    "                  \"efgh@gmail.com\",\n",
    "                 \"mnop@gmail.com\"]}\n",
    "df=pd.DataFrame(data)\n",
    "username(df)"
   ]
  },
  {
   "cell_type": "raw",
   "id": "c5a6350b-a6c1-4db0-b115-bade86406d9b",
   "metadata": {},
   "source": [
    "Q8. You have a Pandas DataFrame df with columns 'A', 'B', and 'C'. Write a Python function that selects all rows where the value in column 'A' is greater than 5 and the value in column 'B' is less than 10. The function should return a new DataFrame that contains only the selected rows.\n",
    "For example, if df contains the following values:\n",
    "  A B C\n",
    "0 3 5 1\n",
    "1 8 2 7\n",
    "2 6 9 4\n",
    "3 2 3 5\n",
    "4 9 1 2\n",
    "Your function should select the following rows: A B C\n",
    "1 8 2 7\n",
    "4 9 1 2"
   ]
  },
  {
   "cell_type": "code",
   "execution_count": 41,
   "id": "48a57bd1-c249-428d-a32f-5af88baec9ae",
   "metadata": {},
   "outputs": [
    {
     "name": "stdout",
     "output_type": "stream",
     "text": [
      "   A  B  C\n",
      "1  8  2  7\n",
      "2  6  9  5\n",
      "4  9  1  2\n"
     ]
    }
   ],
   "source": [
    "def condition(df):\n",
    "    print(df[(df[\"A\"]>5) & (df[\"B\"]<10)])\n",
    "\n",
    "import pandas as pd\n",
    "data={\"A\": [3,8,6,2,9],\n",
    "     \"B\":  [5,2,9,3,1],\n",
    "     \"C\":  [1,7,5,4,2]}\n",
    "df=pd.DataFrame(data)\n",
    "\n",
    "condition(df)"
   ]
  },
  {
   "cell_type": "markdown",
   "id": "69011253-95d9-4b2f-a723-96d1efac639c",
   "metadata": {},
   "source": [
    "Q9. Given a Pandas DataFrame df with a column 'Values', write a Python function to calculate the mean, median, and standard deviation of the values in the 'Values' column."
   ]
  },
  {
   "cell_type": "code",
   "execution_count": 42,
   "id": "0a7581e3-621c-4e26-b9d3-e52c330deaac",
   "metadata": {},
   "outputs": [
    {
     "name": "stdout",
     "output_type": "stream",
     "text": [
      "Mean: 30.0, Median: 30.0, Standard deviation: 15.811388300841896\n"
     ]
    }
   ],
   "source": [
    "import pandas as pd\n",
    "\n",
    "def calculate_stats(df):\n",
    "    mean = df['Values'].mean()\n",
    "    median = df['Values'].median()\n",
    "    std = df['Values'].std()\n",
    "    return mean, median, std\n",
    "df = pd.DataFrame()\n",
    "df['Values']= [10, 20, 30, 40, 50]\n",
    "result=calculate_stats(df)\n",
    "mean = result[0]\n",
    "median = result[1]\n",
    "std = result[2]\n",
    "print(\"Mean:\",str(mean)+ \", Median:\",str(median)+ \", Standard deviation:\",str(std))"
   ]
  },
  {
   "cell_type": "raw",
   "id": "b585c4d5-3b7b-4321-9b6e-c1b5a4108884",
   "metadata": {},
   "source": [
    "Q11. You have a Pandas DataFrame df with a column 'Date'. Write a Python function that creates a new column 'Weekday' in the DataFrame. The 'Weekday' column should contain the weekday name (e.g. Monday, Tuesday) corresponding to each date in the 'Date' column.\n",
    "For example, if df contains the following values:\n",
    "Date\n",
    "0 2023-01-01\n",
    "1 2023-01-02\n",
    "2 2023-01-03\n",
    "3 2023-01-04\n",
    "4 2023-01-05\n",
    "Your function should create the following DataFrame:\n",
    "Date Weekday\n",
    "0 2023-01-01 Sunday\n",
    "1 2023-01-02 Monday\n",
    "2 2023-01-03 Tuesday\n",
    "3 2023-01-04 Wednesday\n",
    "4 2023-01-05 Thursday\n",
    "The function should return the modified DataFrame."
   ]
  },
  {
   "cell_type": "code",
   "execution_count": 44,
   "id": "83b17d89-c042-4095-b50f-9ec8bf3a79e4",
   "metadata": {},
   "outputs": [
    {
     "name": "stdout",
     "output_type": "stream",
     "text": [
      "        Date    weekday\n",
      "0 2023-01-01     Sunday\n",
      "1 2023-01-02     Monday\n",
      "2 2023-01-03    Tuesday\n",
      "3 2023-01-04  Wednesday\n",
      "4 2023-01-05   Thursday\n"
     ]
    }
   ],
   "source": [
    "import pandas as pd\n",
    "def add_weekday(df):\n",
    "    df[\"Date\"]= pd.to_datetime(df[\"Date\"])\n",
    "    df[\"weekday\"] = df[\"Date\"].dt.day_name()\n",
    "    return df\n",
    "df = pd.DataFrame({'Date': ['2023-01-01', '2023-01-02', '2023-01-03', '2023-01-04', '2023-01-05']})\n",
    "print(add_weekday(df))\n"
   ]
  },
  {
   "cell_type": "markdown",
   "id": "1700dd54-a126-4668-82e8-ccf92ac89a8a",
   "metadata": {},
   "source": [
    "Q12. Given a Pandas DataFrame df with a column 'Date' that contains timestamps, write a Python function to select all rows where the date is between '2023-01-01' and '2023-01-31'.\n"
   ]
  },
  {
   "cell_type": "code",
   "execution_count": 45,
   "id": "e99467ce-8cc1-4b3d-81a3-75ddd8fefecc",
   "metadata": {},
   "outputs": [
    {
     "name": "stdout",
     "output_type": "stream",
     "text": [
      "Original DataFrame:\n",
      "         Date\n",
      "0  2022-12-31\n",
      "1  2023-01-01\n",
      "2  2023-01-15\n",
      "3  2023-01-31\n",
      "4  2023-02-15\n",
      "\n",
      "DataFrame with January dates only:\n",
      "        Date\n",
      "1 2023-01-01\n",
      "2 2023-01-15\n",
      "3 2023-01-31\n"
     ]
    }
   ],
   "source": [
    "import pandas as pd\n",
    "\n",
    "def select_january_dates(df):\n",
    "    df['Date'] = pd.to_datetime(df['Date'])\n",
    "    start_date = '2023-01-01'\n",
    "    end_date = '2023-01-31'\n",
    "    mask = (df['Date'] >= start_date) & (df['Date'] <= end_date)\n",
    "    return df.loc[mask]\n",
    "\n",
    "df = pd.DataFrame({'Date': ['2022-12-31', '2023-01-01', '2023-01-15', '2023-01-31', '2023-02-15']})\n",
    "print(\"Original DataFrame:\")\n",
    "print(df)\n",
    "df = select_january_dates(df)\n",
    "print(\"\\nDataFrame with January dates only:\")\n",
    "print(df)\n"
   ]
  },
  {
   "cell_type": "markdown",
   "id": "49f59acd-c2b9-4d70-9f8b-0fc2a815bf19",
   "metadata": {},
   "source": [
    "Q13. To use the basic functions of pandas, what is the first and foremost necessary library that needs to be imported?"
   ]
  },
  {
   "cell_type": "code",
   "execution_count": 46,
   "id": "2491e336-d380-4f2d-8e66-740a5a9cd9b3",
   "metadata": {},
   "outputs": [],
   "source": [
    "import pandas as pd"
   ]
  }
 ],
 "metadata": {
  "kernelspec": {
   "display_name": "Python 3 (ipykernel)",
   "language": "python",
   "name": "python3"
  },
  "language_info": {
   "codemirror_mode": {
    "name": "ipython",
    "version": 3
   },
   "file_extension": ".py",
   "mimetype": "text/x-python",
   "name": "python",
   "nbconvert_exporter": "python",
   "pygments_lexer": "ipython3",
   "version": "3.10.8"
  }
 },
 "nbformat": 4,
 "nbformat_minor": 5
}
