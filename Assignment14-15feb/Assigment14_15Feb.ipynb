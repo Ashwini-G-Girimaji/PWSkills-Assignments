{
 "cells": [
  {
   "cell_type": "markdown",
   "id": "f0fc4379-27a8-4723-a54a-7423e04088fb",
   "metadata": {},
   "source": [
    "1. What is multiprocessing in python? Why is it useful?"
   ]
  },
  {
   "cell_type": "markdown",
   "id": "ca76cb6f-dbcc-48c6-bfa1-e23ff9ddc438",
   "metadata": {},
   "source": [
    "Multiprocessing in Python is a built-in package that allows the system to run multiple processes simultaneously. It will enable the breaking of applications into smaller threads that can run independently.  The operating system can then allocate all these threads or processes to the processor to run them parallelly, thus improving the overall performance and efficiency.\n",
    "\n",
    "Performing multiple operations for a single processor becomes challenging. As the number of processes keeps increasing, the processor will have to halt the current process and move to the next, to keep them going. Thus, it will have to interrupt each task, thereby hampering the performance."
   ]
  },
  {
   "cell_type": "markdown",
   "id": "79c1d8e5-90ec-4c9c-aaaa-5637d4675f2e",
   "metadata": {},
   "source": [
    "2. What are the differences between multiprocessing and multithreading?"
   ]
  },
  {
   "cell_type": "raw",
   "id": "7412967d-3c37-4113-b810-c460afa9bcbb",
   "metadata": {},
   "source": [
    "Factor\t                       Multiprocessing\t                                                         Multithreading\n",
    "---------------------------------------------------------------------------------------------------------------------------------------------\n",
    "Concept\t         Multiple processors/CPUs are added to the system                   Multiple threads are created of a process to be executed\n",
    "                 to increase the computing power of the system.\t                    in a parallel fashion to increase the throughput of the system.\n",
    "                  \n",
    "Parallel Action\t Multiple processes are executed in a parallel fashion.\t            Multiple threads are executed in a parallel fashion.\n",
    "\n",
    "Categories       Multiprocessing can be classified into symmetric and               No such classification present for multithreading.\n",
    "                 asymmetric multiprocessing.\t\n",
    "                 \n",
    "Time\t         Process creation is time-consuming.\t                            Thread creation is easy and is time savvy.\n",
    "\n",
    "Execution\t     In multiprocessing, many processes are executed                    In multithreading, many threads are executed\n",
    "                 simultaneously.\t                                                simultaneously.\n",
    "                \n",
    "Address space\t In multiprocessing, a separate address space \t                    In multithreading, a common address space is used for all the threads.\n",
    "                 is created for each process.\n",
    "                \n",
    "Resources\t     Multiprocessing requires a significant amount of                 \tMultithreading requires less time and few resources to create.\n",
    "                 time and large number of resources.\n"
   ]
  },
  {
   "cell_type": "markdown",
   "id": "ecc91c33-f9b1-4684-8aeb-e31f3ac3b558",
   "metadata": {},
   "source": [
    "3. Write a python code to create a process using the multiprocessing module."
   ]
  },
  {
   "cell_type": "code",
   "execution_count": 1,
   "id": "75998c5f-9928-4bb6-950b-2b28bffc632f",
   "metadata": {},
   "outputs": [
    {
     "name": "stdout",
     "output_type": "stream",
     "text": [
      "Square: 100\n",
      "Cube: 1000\n",
      "Done!\n"
     ]
    }
   ],
   "source": [
    "import multiprocessing\n",
    "  \n",
    "def print_cube(num):   \n",
    "    print(\"Cube: {}\".format(num * num * num))\n",
    "    \n",
    "def print_square(num):    \n",
    "    print(\"Square: {}\".format(num * num))\n",
    "    \n",
    "if __name__ == \"__main__\":\n",
    "\n",
    "    p1 = multiprocessing.Process(target=print_square, args=(10, ))\n",
    "    p2 = multiprocessing.Process(target=print_cube, args=(10, ))\n",
    "  \n",
    "    p1.start()\n",
    "    p2.start()  \n",
    "   \n",
    "    p1.join()\n",
    "    p2.join()  \n",
    "   \n",
    "    print(\"Done!\")"
   ]
  },
  {
   "cell_type": "markdown",
   "id": "2f2e2956-bea7-46e9-9f72-61b918a02965",
   "metadata": {},
   "source": [
    "4. What is a multiprocessing pool in python? Why is it used?"
   ]
  },
  {
   "cell_type": "markdown",
   "id": "517ccf54-42f4-4d80-86b9-c67ae33f817a",
   "metadata": {},
   "source": [
    "A process pool is a programming pattern for automatically managing a pool of worker processes.\n",
    "\n",
    "The pool is responsible for a fixed number of processes.\n",
    "\n",
    "It controls when they are created, such as when they are needed.\n",
    "It also controls what they should do when they are not being used, such as making them wait without consuming computational resources.\n",
    "The pool can provide a generic interface for executing ad hoc tasks with a variable number of arguments, much like the target property on the Process object, but does not require that we choose a process to run the task, start the process, or wait for the task to complete.\n",
    "\n",
    "The multiprocessing.pool.Pool class provides a process pool in Python. The multiprocessing.pool.Pool class can also be accessed by the alias multiprocessing.Pool. They can be used interchangeably.\n",
    "\n",
    "It allows tasks to be submitted as functions to the process pool to be executed concurrently."
   ]
  },
  {
   "cell_type": "markdown",
   "id": "09dd926b-f474-4ff9-a200-7b8db4c82fc4",
   "metadata": {},
   "source": [
    "5. How can we create a pool of worker processes in python using the multiprocessing module?"
   ]
  },
  {
   "cell_type": "markdown",
   "id": "462ead5b-0aa0-49e1-b231-20b4fb4eedeb",
   "metadata": {},
   "source": [
    "To use the process pool, we must first create and configure an instance of the class.\n",
    "#### * create a process pool\n",
    "pool = multiprocessing.pool.Pool(...)\n",
    "\n",
    "Once configured, tasks can be submitted to the pool for execution using blocking and asynchronous versions of apply() and map().\n",
    "...\n",
    "#### * issues tasks for execution\n",
    "results = pool.map(task, items)\n",
    "\n",
    "Once we have finished with the process pool, it can be closed and resources used by the pool can be released.\n",
    "...\n",
    "#### * close the process pool\n",
    "pool.close()"
   ]
  },
  {
   "cell_type": "markdown",
   "id": "ff92de3f-8288-405c-b412-00e4bf4c55e4",
   "metadata": {},
   "source": [
    "6. Write a python program to create 4 processes, each process should print a different number using the multiprocessing module in python."
   ]
  },
  {
   "cell_type": "code",
   "execution_count": 7,
   "id": "fc5ef5e9-7618-43cf-8a5c-72bd2a223131",
   "metadata": {},
   "outputs": [
    {
     "name": "stdout",
     "output_type": "stream",
     "text": [
      "value - 1\n",
      "\n",
      "value - 2\n",
      "\n",
      "value - 3\n",
      "\n",
      "value - 4\n",
      "\n",
      "[1, 2, 3, 4]\n"
     ]
    }
   ],
   "source": [
    "import multiprocessing\n",
    "\n",
    "def printnum(index , value ):\n",
    "    print(f'value - {value[index]}\\n')\n",
    "   \n",
    "    \n",
    "if __name__ == '__main__':\n",
    "    arr = multiprocessing.Array('i', [1,2,3,4])  \n",
    "    process = []\n",
    "    for i in range(4) : \n",
    "        m = multiprocessing.Process(target=printnum , args = (i ,arr ))\n",
    "        #print(f'm is {m}')\n",
    "        process.append(m)\n",
    "        m.start()\n",
    "    for m in process:\n",
    "        m.join()\n",
    "    print(list(arr))"
   ]
  },
  {
   "cell_type": "code",
   "execution_count": null,
   "id": "1ad3a243-49fd-4474-ac16-4eb28d2e1a01",
   "metadata": {},
   "outputs": [],
   "source": []
  }
 ],
 "metadata": {
  "kernelspec": {
   "display_name": "Python 3 (ipykernel)",
   "language": "python",
   "name": "python3"
  },
  "language_info": {
   "codemirror_mode": {
    "name": "ipython",
    "version": 3
   },
   "file_extension": ".py",
   "mimetype": "text/x-python",
   "name": "python",
   "nbconvert_exporter": "python",
   "pygments_lexer": "ipython3",
   "version": "3.10.8"
  }
 },
 "nbformat": 4,
 "nbformat_minor": 5
}
