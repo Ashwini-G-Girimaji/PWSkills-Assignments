{
 "cells": [
  {
   "cell_type": "markdown",
   "id": "77b7d832-4e7a-4611-92fb-5de74b22e46a",
   "metadata": {},
   "source": [
    "1. Which function is used to open a file? What are the different modes of opening a file? Explain each mode of file opening.\n"
   ]
  },
  {
   "cell_type": "raw",
   "id": "e6129fb8-c01e-4fad-abb0-ca49f14b7e6e",
   "metadata": {},
   "source": [
    "open() is used to open file.\n",
    "Different modes are \n",
    "r - Open a file for reading. (default)\n",
    "w - Open a file for writing. Creates a new file if it does not exist or truncates the file if it exists.\n",
    "x - Open a file for exclusive creation. If the file already exists, the operation fails.\n",
    "a - Open a file for appending at the end of the file without truncating it. Creates a new file if it does not exist.\n",
    "t - Open in text mode.\n",
    "b - Open in binary mode.\n",
    "+ - Open a file for updating (reading and writing)\n"
   ]
  },
  {
   "cell_type": "markdown",
   "id": "a0833b85-74eb-440f-9b72-b7d8a9f7baef",
   "metadata": {},
   "source": [
    "2. Why close() function is used? Why is it important to close a file?"
   ]
  },
  {
   "cell_type": "markdown",
   "id": "d13def29-8f8e-4b94-aa37-e722a0558d51",
   "metadata": {},
   "source": [
    "Ans: close() is used to free up the resources that were tied with the file. Files are limited resources managed by the operating system, making sure files are closed after use will protect against hard-to-debug issues like running out of file handles or experiencing corrupted data."
   ]
  },
  {
   "cell_type": "markdown",
   "id": "a16414cc-73f2-457d-a1d1-126100f24171",
   "metadata": {},
   "source": [
    "3. Write a python program to create a text file. Write ‘I want to become a Data Scientist’ in that file. Then  close the file. Open this file and read the content of the file."
   ]
  },
  {
   "cell_type": "code",
   "execution_count": 3,
   "id": "7220d7cd-b681-4005-ad95-8abb0d042f3a",
   "metadata": {},
   "outputs": [],
   "source": [
    "file = open('abc.txt','w')\n",
    "file.write('I want to become a Data Scientist')\n",
    "file.close()"
   ]
  },
  {
   "cell_type": "markdown",
   "id": "84669fad-5da4-4280-8e6e-8badc12a7bfd",
   "metadata": {},
   "source": [
    "4. Explain the following with python code: read(), readline() and readlines()."
   ]
  },
  {
   "cell_type": "raw",
   "id": "409f37d8-8816-4164-8101-c1fc8962b17b",
   "metadata": {},
   "source": [
    "read()\n",
    "The read method reads the entire contents of a file and returns it as a string.\n",
    "\n",
    "readline()\n",
    "This method will read one line in a file.\n",
    "A new line character is left at the string end and is ignored for the last line provided the file does not finish in a new line.\n",
    "This method reads up to the end of the line with readline() and returns a list.\n",
    "\n",
    "readlines()\n",
    "This method will read the entire content of the file at a time\n",
    "This method reads all the file content and stores it in the list.\n",
    "This method reads up to the end of the line with readline () and returns a list.\n",
    "\n"
   ]
  },
  {
   "cell_type": "code",
   "execution_count": 4,
   "id": "c956c5fc-0ae6-4430-af19-589f2a88f15f",
   "metadata": {},
   "outputs": [
    {
     "name": "stdout",
     "output_type": "stream",
     "text": [
      "I want to become a Data Scientist.\n",
      "i want to enhance my skill.\n",
      "I want to work in reputed company.\n"
     ]
    }
   ],
   "source": [
    "with open(\"abc.txt\", \"r\") as file:\n",
    "    content = file.read()\n",
    "    print(content)"
   ]
  },
  {
   "cell_type": "code",
   "execution_count": 6,
   "id": "6d1a1991-b376-4dd6-b1ec-2d00bc7077fd",
   "metadata": {},
   "outputs": [
    {
     "name": "stdout",
     "output_type": "stream",
     "text": [
      "I want to become a Data Scientist.\n",
      "i want to enhance my skill.\n",
      "I want to work in reputed company.\n"
     ]
    }
   ],
   "source": [
    "with open(\"abc.txt\", \"r\") as file:\n",
    "    line = file.readline()\n",
    "    while line:\n",
    "        print(line.strip())\n",
    "        line = file.readline()"
   ]
  },
  {
   "cell_type": "code",
   "execution_count": 8,
   "id": "c42e92af-368b-4e34-bfce-8b408b54a0da",
   "metadata": {},
   "outputs": [
    {
     "name": "stdout",
     "output_type": "stream",
     "text": [
      "['I want to become a Data Scientist.\\n', 'i want to enhance my skill.\\n', 'I want to work in reputed company.']\n",
      "I want to become a Data Scientist.\n",
      "i want to enhance my skill.\n",
      "I want to work in reputed company.\n"
     ]
    }
   ],
   "source": [
    "with open(\"abc.txt\", \"r\") as file:\n",
    "    lines = file.readlines()\n",
    "    print(lines)\n",
    "    for line in lines:\n",
    "        print(line.strip())"
   ]
  },
  {
   "cell_type": "markdown",
   "id": "e9cbcc4f-db5e-476d-a5e5-b0872ad97eac",
   "metadata": {},
   "source": [
    "5. Explain why with statement is used with open(). What is the advantage of using with statement and open() together?\n"
   ]
  },
  {
   "cell_type": "markdown",
   "id": "e05c328f-dfd6-4a51-a935-44d831f9e468",
   "metadata": {},
   "source": [
    "The with statement works with the open() function to open a file. Unlike open() where you have to close the file with the close() method, the with statement closes the file for you without you telling it to. This is because the with statement calls 2 built-in methods behind the scene – __enter()__ and __exit()__ "
   ]
  },
  {
   "cell_type": "markdown",
   "id": "776af025-15d9-407c-bec8-cdcc626ec97c",
   "metadata": {},
   "source": [
    "6. Explain the write() and writelines() functions. Give a suitable example."
   ]
  },
  {
   "cell_type": "markdown",
   "id": "8ff092bd-5a7a-4593-ae2a-c61ce961cd99",
   "metadata": {},
   "source": [
    "The write() method accepts a string as an argument and writes this string to the text file. Whereas, the writelines() method accepts an iterable i.e. a string or the list of strings as an argument and writes these strings to the text file."
   ]
  },
  {
   "cell_type": "code",
   "execution_count": 11,
   "id": "1d5fb49e-be64-47db-9524-f23d97afee5a",
   "metadata": {},
   "outputs": [
    {
     "name": "stdin",
     "output_type": "stream",
     "text": [
      "Enter the name of the employee:  Ashwini\n",
      "Enter the name of the employee:  shyam\n",
      "Enter the name of the employee:  Hari\n"
     ]
    },
    {
     "name": "stdout",
     "output_type": "stream",
     "text": [
      "Data is written into the file.\n"
     ]
    }
   ],
   "source": [
    "#write()\n",
    "file = open(\"Employees.txt\", \"w\")\n",
    "  \n",
    "for i in range(3):\n",
    "    name = input(\"Enter the name of the employee: \")\n",
    "    file.write(name)\n",
    "    file.write(\"\\n\")\n",
    "     \n",
    "file.close()\n",
    "  \n",
    "print(\"Data is written into the file.\")"
   ]
  },
  {
   "cell_type": "code",
   "execution_count": 12,
   "id": "edbf2ab2-d070-4583-ba64-397e0369d44a",
   "metadata": {},
   "outputs": [
    {
     "name": "stdin",
     "output_type": "stream",
     "text": [
      "Enter the name of the employee:  Ashwini\n",
      "Enter the name of the employee:  shyam\n",
      "Enter the name of the employee:  Girish\n"
     ]
    },
    {
     "name": "stdout",
     "output_type": "stream",
     "text": [
      "Data is written into the file.\n"
     ]
    }
   ],
   "source": [
    "#writelines()\n",
    "file1 = open(\"Employees.txt\", \"w\")\n",
    "lst = []\n",
    "for i in range(3):\n",
    "\tname = input(\"Enter the name of the employee: \")\n",
    "\tlst.append(name + '\\n')\n",
    "\t\n",
    "file1.writelines(lst)\n",
    "file1.close()\n",
    "print(\"Data is written into the file.\")\n"
   ]
  },
  {
   "cell_type": "code",
   "execution_count": null,
   "id": "079ce108-26c5-483a-a9a5-a18174ad0a5d",
   "metadata": {},
   "outputs": [],
   "source": []
  }
 ],
 "metadata": {
  "kernelspec": {
   "display_name": "Python 3 (ipykernel)",
   "language": "python",
   "name": "python3"
  },
  "language_info": {
   "codemirror_mode": {
    "name": "ipython",
    "version": 3
   },
   "file_extension": ".py",
   "mimetype": "text/x-python",
   "name": "python",
   "nbconvert_exporter": "python",
   "pygments_lexer": "ipython3",
   "version": "3.10.8"
  }
 },
 "nbformat": 4,
 "nbformat_minor": 5
}
